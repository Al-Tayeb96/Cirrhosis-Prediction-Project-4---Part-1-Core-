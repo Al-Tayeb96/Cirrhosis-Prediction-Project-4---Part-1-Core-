{
  "nbformat": 4,
  "nbformat_minor": 0,
  "metadata": {
    "colab": {
      "provenance": [],
      "gpuType": "T4",
      "mount_file_id": "1hv1tuCeNOH4-AhrvZhH-JxxE5w1rS2bC",
      "authorship_tag": "ABX9TyO90N0zAf2sGOsU2oGA9A29",
      "include_colab_link": true
    },
    "kernelspec": {
      "name": "python3",
      "display_name": "Python 3"
    },
    "language_info": {
      "name": "python"
    },
    "accelerator": "GPU"
  },
  "cells": [
    {
      "cell_type": "markdown",
      "metadata": {
        "id": "view-in-github",
        "colab_type": "text"
      },
      "source": [
        "<a href=\"https://colab.research.google.com/github/Al-Tayeb96/Cirrhosis-Prediction-Project-4---Part-1-Core-/blob/main/Project_4_Part_3_(Core).ipynb\" target=\"_parent\"><img src=\"https://colab.research.google.com/assets/colab-badge.svg\" alt=\"Open In Colab\"/></a>"
      ]
    },
    {
      "cell_type": "code",
      "execution_count": null,
      "metadata": {
        "id": "kRrn384I5vDP"
      },
      "outputs": [],
      "source": [
        "import pandas as pd\n",
        "import numpy as np\n",
        "import matplotlib.pyplot as plt\n",
        "\n",
        "# Keras\n",
        "import tensorflow as tf\n",
        "from tensorflow import keras\n",
        "\n",
        "from tensorflow.keras import Sequential\n",
        "from tensorflow.keras import metrics\n",
        "from tensorflow.keras.layers import Dense, Dropout\n",
        "\n",
        "from sklearn.metrics import classification_report, ConfusionMatrixDisplay\n",
        "\n",
        "\n",
        "\n",
        "# Sci-kit learn\n",
        "from sklearn.metrics import mean_squared_error, r2_score, mean_absolute_error\n",
        "from sklearn.preprocessing import StandardScaler, OneHotEncoder\n",
        "from sklearn.compose import ColumnTransformer\n",
        "from sklearn.pipeline import make_pipeline\n",
        "from sklearn.impute import SimpleImputer\n",
        "from sklearn.model_selection import train_test_split\n",
        "\n",
        "# Set pandas as the default output for sklearn\n",
        "from sklearn import set_config\n",
        "set_config(transform_output='pandas')"
      ]
    },
    {
      "cell_type": "code",
      "source": [
        "def classification_metrics(y_true, y_pred, label='',\n",
        "                           output_dict=False, figsize=(8,4),\n",
        "                           normalize='true', cmap='Blues',\n",
        "                           colorbar=False):\n",
        "\n",
        "    # Get the classification report\n",
        "    report = classification_report(y_true, y_pred)\n",
        "    ## Print header and report\n",
        "    header = \"-\"*70\n",
        "    print(header, f\" Classification Metrics: {label}\", header, sep='\\n')\n",
        "    print(report)\n",
        "\n",
        "    ## CONFUSION MATRICES SUBPLOTS\n",
        "    fig, axes = plt.subplots(ncols=2, figsize=figsize)\n",
        "\n",
        "    # create a confusion matrix  of raw counts\n",
        "    ConfusionMatrixDisplay.from_predictions(y_true, y_pred,\n",
        "                normalize=None, cmap='gist_gray', values_format=\"d\", colorbar=colorbar,\n",
        "                ax = axes[0],);\n",
        "    axes[0].set_title(\"Raw Counts\")\n",
        "\n",
        "    # create a confusion matrix with the test data\n",
        "    ConfusionMatrixDisplay.from_predictions(y_true, y_pred,\n",
        "                normalize=normalize, cmap=cmap, values_format=\".2f\", colorbar=colorbar,\n",
        "                ax = axes[1]);\n",
        "    axes[1].set_title(\"Normalized Confusion Matrix\")\n",
        "\n",
        "    # Adjust layout and show figure\n",
        "    fig.tight_layout()\n",
        "    plt.show()\n",
        "\n",
        "    # Return dictionary of classification_report\n",
        "    if output_dict==True:\n",
        "        report_dict = classification_report(y_true, y_pred, output_dict=True)\n",
        "        return report_dict"
      ],
      "metadata": {
        "id": "moy5ZfaU8FgO"
      },
      "execution_count": null,
      "outputs": []
    },
    {
      "cell_type": "code",
      "source": [
        "# Custom function for plotting each metric\n",
        "def plot_history(history, figsize=(6,12), marker='o'):\n",
        "\n",
        "    # Get list of metrics from history\n",
        "    metrics = [c for c in history.history if not c.startswith('val_')]\n",
        "\n",
        "    ## Separate row for each metric\n",
        "    fig, axes = plt.subplots(nrows=len(metrics),figsize=figsize)\n",
        "\n",
        "    # For each metric\n",
        "    for i, metric_name in enumerate(metrics):\n",
        "\n",
        "        # Get the axis for the current metric\n",
        "        ax = axes[i]\n",
        "\n",
        "        # Get metric from history.history\n",
        "        metric_values = history.history[metric_name]\n",
        "        # Get epochs from history\n",
        "        epochs = history.epoch\n",
        "\n",
        "        # Plot the training metric\n",
        "        ax.plot(epochs, metric_values, label=metric_name, marker=marker)\n",
        "\n",
        "        ## Check if val_{metric} exists. if so, plot:\n",
        "        val_metric_name = f\"val_{metric_name}\"\n",
        "        if val_metric_name in history.history:\n",
        "            # Get validation values and plot\n",
        "            metric_values = history.history[val_metric_name]\n",
        "            ax.plot(epochs,metric_values,label=val_metric_name, marker=marker)\n",
        "\n",
        "        # Final subplot adjustments\n",
        "        ax.legend()\n",
        "        ax.set_title(metric_name)\n",
        "    fig.tight_layout()\n",
        "\n",
        "    return fig, axes\n",
        "\n"
      ],
      "metadata": {
        "id": "IvD1ACfF6o42"
      },
      "execution_count": null,
      "outputs": []
    },
    {
      "cell_type": "code",
      "source": [
        "# Load Data\n",
        "df = pd.read_csv('/content/drive/MyDrive/ CodingDojo/Intermediate ML/cirrhosis.csv',index_col='ID')\n",
        "df.head()"
      ],
      "metadata": {
        "colab": {
          "base_uri": "https://localhost:8080/",
          "height": 237
        },
        "id": "oXulOXvW6uAe",
        "outputId": "5b9af7df-546a-4255-9f8d-b6dbc1837120"
      },
      "execution_count": null,
      "outputs": [
        {
          "output_type": "execute_result",
          "data": {
            "text/plain": [
              "    N_Days Status             Drug    Age Sex Ascites Hepatomegaly Spiders  \\\n",
              "ID                                                                           \n",
              "1      400      D  D-penicillamine  21464   F       Y            Y       Y   \n",
              "2     4500      C  D-penicillamine  20617   F       N            Y       Y   \n",
              "3     1012      D  D-penicillamine  25594   M       N            N       N   \n",
              "4     1925      D  D-penicillamine  19994   F       N            Y       Y   \n",
              "5     1504     CL          Placebo  13918   F       N            Y       Y   \n",
              "\n",
              "   Edema  Bilirubin  Cholesterol  Albumin  Copper  Alk_Phos    SGOT  \\\n",
              "ID                                                                    \n",
              "1      Y       14.5        261.0     2.60   156.0    1718.0  137.95   \n",
              "2      N        1.1        302.0     4.14    54.0    7394.8  113.52   \n",
              "3      S        1.4        176.0     3.48   210.0     516.0   96.10   \n",
              "4      S        1.8        244.0     2.54    64.0    6121.8   60.63   \n",
              "5      N        3.4        279.0     3.53   143.0     671.0  113.15   \n",
              "\n",
              "    Tryglicerides  Platelets  Prothrombin  Stage  \n",
              "ID                                                \n",
              "1           172.0      190.0         12.2    4.0  \n",
              "2            88.0      221.0         10.6    3.0  \n",
              "3            55.0      151.0         12.0    4.0  \n",
              "4            92.0      183.0         10.3    4.0  \n",
              "5            72.0      136.0         10.9    3.0  "
            ],
            "text/html": [
              "\n",
              "  <div id=\"df-188847da-ab6c-420a-b47e-ef1bd4383208\" class=\"colab-df-container\">\n",
              "    <div>\n",
              "<style scoped>\n",
              "    .dataframe tbody tr th:only-of-type {\n",
              "        vertical-align: middle;\n",
              "    }\n",
              "\n",
              "    .dataframe tbody tr th {\n",
              "        vertical-align: top;\n",
              "    }\n",
              "\n",
              "    .dataframe thead th {\n",
              "        text-align: right;\n",
              "    }\n",
              "</style>\n",
              "<table border=\"1\" class=\"dataframe\">\n",
              "  <thead>\n",
              "    <tr style=\"text-align: right;\">\n",
              "      <th></th>\n",
              "      <th>N_Days</th>\n",
              "      <th>Status</th>\n",
              "      <th>Drug</th>\n",
              "      <th>Age</th>\n",
              "      <th>Sex</th>\n",
              "      <th>Ascites</th>\n",
              "      <th>Hepatomegaly</th>\n",
              "      <th>Spiders</th>\n",
              "      <th>Edema</th>\n",
              "      <th>Bilirubin</th>\n",
              "      <th>Cholesterol</th>\n",
              "      <th>Albumin</th>\n",
              "      <th>Copper</th>\n",
              "      <th>Alk_Phos</th>\n",
              "      <th>SGOT</th>\n",
              "      <th>Tryglicerides</th>\n",
              "      <th>Platelets</th>\n",
              "      <th>Prothrombin</th>\n",
              "      <th>Stage</th>\n",
              "    </tr>\n",
              "    <tr>\n",
              "      <th>ID</th>\n",
              "      <th></th>\n",
              "      <th></th>\n",
              "      <th></th>\n",
              "      <th></th>\n",
              "      <th></th>\n",
              "      <th></th>\n",
              "      <th></th>\n",
              "      <th></th>\n",
              "      <th></th>\n",
              "      <th></th>\n",
              "      <th></th>\n",
              "      <th></th>\n",
              "      <th></th>\n",
              "      <th></th>\n",
              "      <th></th>\n",
              "      <th></th>\n",
              "      <th></th>\n",
              "      <th></th>\n",
              "      <th></th>\n",
              "    </tr>\n",
              "  </thead>\n",
              "  <tbody>\n",
              "    <tr>\n",
              "      <th>1</th>\n",
              "      <td>400</td>\n",
              "      <td>D</td>\n",
              "      <td>D-penicillamine</td>\n",
              "      <td>21464</td>\n",
              "      <td>F</td>\n",
              "      <td>Y</td>\n",
              "      <td>Y</td>\n",
              "      <td>Y</td>\n",
              "      <td>Y</td>\n",
              "      <td>14.5</td>\n",
              "      <td>261.0</td>\n",
              "      <td>2.60</td>\n",
              "      <td>156.0</td>\n",
              "      <td>1718.0</td>\n",
              "      <td>137.95</td>\n",
              "      <td>172.0</td>\n",
              "      <td>190.0</td>\n",
              "      <td>12.2</td>\n",
              "      <td>4.0</td>\n",
              "    </tr>\n",
              "    <tr>\n",
              "      <th>2</th>\n",
              "      <td>4500</td>\n",
              "      <td>C</td>\n",
              "      <td>D-penicillamine</td>\n",
              "      <td>20617</td>\n",
              "      <td>F</td>\n",
              "      <td>N</td>\n",
              "      <td>Y</td>\n",
              "      <td>Y</td>\n",
              "      <td>N</td>\n",
              "      <td>1.1</td>\n",
              "      <td>302.0</td>\n",
              "      <td>4.14</td>\n",
              "      <td>54.0</td>\n",
              "      <td>7394.8</td>\n",
              "      <td>113.52</td>\n",
              "      <td>88.0</td>\n",
              "      <td>221.0</td>\n",
              "      <td>10.6</td>\n",
              "      <td>3.0</td>\n",
              "    </tr>\n",
              "    <tr>\n",
              "      <th>3</th>\n",
              "      <td>1012</td>\n",
              "      <td>D</td>\n",
              "      <td>D-penicillamine</td>\n",
              "      <td>25594</td>\n",
              "      <td>M</td>\n",
              "      <td>N</td>\n",
              "      <td>N</td>\n",
              "      <td>N</td>\n",
              "      <td>S</td>\n",
              "      <td>1.4</td>\n",
              "      <td>176.0</td>\n",
              "      <td>3.48</td>\n",
              "      <td>210.0</td>\n",
              "      <td>516.0</td>\n",
              "      <td>96.10</td>\n",
              "      <td>55.0</td>\n",
              "      <td>151.0</td>\n",
              "      <td>12.0</td>\n",
              "      <td>4.0</td>\n",
              "    </tr>\n",
              "    <tr>\n",
              "      <th>4</th>\n",
              "      <td>1925</td>\n",
              "      <td>D</td>\n",
              "      <td>D-penicillamine</td>\n",
              "      <td>19994</td>\n",
              "      <td>F</td>\n",
              "      <td>N</td>\n",
              "      <td>Y</td>\n",
              "      <td>Y</td>\n",
              "      <td>S</td>\n",
              "      <td>1.8</td>\n",
              "      <td>244.0</td>\n",
              "      <td>2.54</td>\n",
              "      <td>64.0</td>\n",
              "      <td>6121.8</td>\n",
              "      <td>60.63</td>\n",
              "      <td>92.0</td>\n",
              "      <td>183.0</td>\n",
              "      <td>10.3</td>\n",
              "      <td>4.0</td>\n",
              "    </tr>\n",
              "    <tr>\n",
              "      <th>5</th>\n",
              "      <td>1504</td>\n",
              "      <td>CL</td>\n",
              "      <td>Placebo</td>\n",
              "      <td>13918</td>\n",
              "      <td>F</td>\n",
              "      <td>N</td>\n",
              "      <td>Y</td>\n",
              "      <td>Y</td>\n",
              "      <td>N</td>\n",
              "      <td>3.4</td>\n",
              "      <td>279.0</td>\n",
              "      <td>3.53</td>\n",
              "      <td>143.0</td>\n",
              "      <td>671.0</td>\n",
              "      <td>113.15</td>\n",
              "      <td>72.0</td>\n",
              "      <td>136.0</td>\n",
              "      <td>10.9</td>\n",
              "      <td>3.0</td>\n",
              "    </tr>\n",
              "  </tbody>\n",
              "</table>\n",
              "</div>\n",
              "    <div class=\"colab-df-buttons\">\n",
              "\n",
              "  <div class=\"colab-df-container\">\n",
              "    <button class=\"colab-df-convert\" onclick=\"convertToInteractive('df-188847da-ab6c-420a-b47e-ef1bd4383208')\"\n",
              "            title=\"Convert this dataframe to an interactive table.\"\n",
              "            style=\"display:none;\">\n",
              "\n",
              "  <svg xmlns=\"http://www.w3.org/2000/svg\" height=\"24px\" viewBox=\"0 -960 960 960\">\n",
              "    <path d=\"M120-120v-720h720v720H120Zm60-500h600v-160H180v160Zm220 220h160v-160H400v160Zm0 220h160v-160H400v160ZM180-400h160v-160H180v160Zm440 0h160v-160H620v160ZM180-180h160v-160H180v160Zm440 0h160v-160H620v160Z\"/>\n",
              "  </svg>\n",
              "    </button>\n",
              "\n",
              "  <style>\n",
              "    .colab-df-container {\n",
              "      display:flex;\n",
              "      gap: 12px;\n",
              "    }\n",
              "\n",
              "    .colab-df-convert {\n",
              "      background-color: #E8F0FE;\n",
              "      border: none;\n",
              "      border-radius: 50%;\n",
              "      cursor: pointer;\n",
              "      display: none;\n",
              "      fill: #1967D2;\n",
              "      height: 32px;\n",
              "      padding: 0 0 0 0;\n",
              "      width: 32px;\n",
              "    }\n",
              "\n",
              "    .colab-df-convert:hover {\n",
              "      background-color: #E2EBFA;\n",
              "      box-shadow: 0px 1px 2px rgba(60, 64, 67, 0.3), 0px 1px 3px 1px rgba(60, 64, 67, 0.15);\n",
              "      fill: #174EA6;\n",
              "    }\n",
              "\n",
              "    .colab-df-buttons div {\n",
              "      margin-bottom: 4px;\n",
              "    }\n",
              "\n",
              "    [theme=dark] .colab-df-convert {\n",
              "      background-color: #3B4455;\n",
              "      fill: #D2E3FC;\n",
              "    }\n",
              "\n",
              "    [theme=dark] .colab-df-convert:hover {\n",
              "      background-color: #434B5C;\n",
              "      box-shadow: 0px 1px 3px 1px rgba(0, 0, 0, 0.15);\n",
              "      filter: drop-shadow(0px 1px 2px rgba(0, 0, 0, 0.3));\n",
              "      fill: #FFFFFF;\n",
              "    }\n",
              "  </style>\n",
              "\n",
              "    <script>\n",
              "      const buttonEl =\n",
              "        document.querySelector('#df-188847da-ab6c-420a-b47e-ef1bd4383208 button.colab-df-convert');\n",
              "      buttonEl.style.display =\n",
              "        google.colab.kernel.accessAllowed ? 'block' : 'none';\n",
              "\n",
              "      async function convertToInteractive(key) {\n",
              "        const element = document.querySelector('#df-188847da-ab6c-420a-b47e-ef1bd4383208');\n",
              "        const dataTable =\n",
              "          await google.colab.kernel.invokeFunction('convertToInteractive',\n",
              "                                                    [key], {});\n",
              "        if (!dataTable) return;\n",
              "\n",
              "        const docLinkHtml = 'Like what you see? Visit the ' +\n",
              "          '<a target=\"_blank\" href=https://colab.research.google.com/notebooks/data_table.ipynb>data table notebook</a>'\n",
              "          + ' to learn more about interactive tables.';\n",
              "        element.innerHTML = '';\n",
              "        dataTable['output_type'] = 'display_data';\n",
              "        await google.colab.output.renderOutput(dataTable, element);\n",
              "        const docLink = document.createElement('div');\n",
              "        docLink.innerHTML = docLinkHtml;\n",
              "        element.appendChild(docLink);\n",
              "      }\n",
              "    </script>\n",
              "  </div>\n",
              "\n",
              "\n",
              "<div id=\"df-73c626a6-8fb5-4ea7-b8dc-0deddf2cfed7\">\n",
              "  <button class=\"colab-df-quickchart\" onclick=\"quickchart('df-73c626a6-8fb5-4ea7-b8dc-0deddf2cfed7')\"\n",
              "            title=\"Suggest charts\"\n",
              "            style=\"display:none;\">\n",
              "\n",
              "<svg xmlns=\"http://www.w3.org/2000/svg\" height=\"24px\"viewBox=\"0 0 24 24\"\n",
              "     width=\"24px\">\n",
              "    <g>\n",
              "        <path d=\"M19 3H5c-1.1 0-2 .9-2 2v14c0 1.1.9 2 2 2h14c1.1 0 2-.9 2-2V5c0-1.1-.9-2-2-2zM9 17H7v-7h2v7zm4 0h-2V7h2v10zm4 0h-2v-4h2v4z\"/>\n",
              "    </g>\n",
              "</svg>\n",
              "  </button>\n",
              "\n",
              "<style>\n",
              "  .colab-df-quickchart {\n",
              "      --bg-color: #E8F0FE;\n",
              "      --fill-color: #1967D2;\n",
              "      --hover-bg-color: #E2EBFA;\n",
              "      --hover-fill-color: #174EA6;\n",
              "      --disabled-fill-color: #AAA;\n",
              "      --disabled-bg-color: #DDD;\n",
              "  }\n",
              "\n",
              "  [theme=dark] .colab-df-quickchart {\n",
              "      --bg-color: #3B4455;\n",
              "      --fill-color: #D2E3FC;\n",
              "      --hover-bg-color: #434B5C;\n",
              "      --hover-fill-color: #FFFFFF;\n",
              "      --disabled-bg-color: #3B4455;\n",
              "      --disabled-fill-color: #666;\n",
              "  }\n",
              "\n",
              "  .colab-df-quickchart {\n",
              "    background-color: var(--bg-color);\n",
              "    border: none;\n",
              "    border-radius: 50%;\n",
              "    cursor: pointer;\n",
              "    display: none;\n",
              "    fill: var(--fill-color);\n",
              "    height: 32px;\n",
              "    padding: 0;\n",
              "    width: 32px;\n",
              "  }\n",
              "\n",
              "  .colab-df-quickchart:hover {\n",
              "    background-color: var(--hover-bg-color);\n",
              "    box-shadow: 0 1px 2px rgba(60, 64, 67, 0.3), 0 1px 3px 1px rgba(60, 64, 67, 0.15);\n",
              "    fill: var(--button-hover-fill-color);\n",
              "  }\n",
              "\n",
              "  .colab-df-quickchart-complete:disabled,\n",
              "  .colab-df-quickchart-complete:disabled:hover {\n",
              "    background-color: var(--disabled-bg-color);\n",
              "    fill: var(--disabled-fill-color);\n",
              "    box-shadow: none;\n",
              "  }\n",
              "\n",
              "  .colab-df-spinner {\n",
              "    border: 2px solid var(--fill-color);\n",
              "    border-color: transparent;\n",
              "    border-bottom-color: var(--fill-color);\n",
              "    animation:\n",
              "      spin 1s steps(1) infinite;\n",
              "  }\n",
              "\n",
              "  @keyframes spin {\n",
              "    0% {\n",
              "      border-color: transparent;\n",
              "      border-bottom-color: var(--fill-color);\n",
              "      border-left-color: var(--fill-color);\n",
              "    }\n",
              "    20% {\n",
              "      border-color: transparent;\n",
              "      border-left-color: var(--fill-color);\n",
              "      border-top-color: var(--fill-color);\n",
              "    }\n",
              "    30% {\n",
              "      border-color: transparent;\n",
              "      border-left-color: var(--fill-color);\n",
              "      border-top-color: var(--fill-color);\n",
              "      border-right-color: var(--fill-color);\n",
              "    }\n",
              "    40% {\n",
              "      border-color: transparent;\n",
              "      border-right-color: var(--fill-color);\n",
              "      border-top-color: var(--fill-color);\n",
              "    }\n",
              "    60% {\n",
              "      border-color: transparent;\n",
              "      border-right-color: var(--fill-color);\n",
              "    }\n",
              "    80% {\n",
              "      border-color: transparent;\n",
              "      border-right-color: var(--fill-color);\n",
              "      border-bottom-color: var(--fill-color);\n",
              "    }\n",
              "    90% {\n",
              "      border-color: transparent;\n",
              "      border-bottom-color: var(--fill-color);\n",
              "    }\n",
              "  }\n",
              "</style>\n",
              "\n",
              "  <script>\n",
              "    async function quickchart(key) {\n",
              "      const quickchartButtonEl =\n",
              "        document.querySelector('#' + key + ' button');\n",
              "      quickchartButtonEl.disabled = true;  // To prevent multiple clicks.\n",
              "      quickchartButtonEl.classList.add('colab-df-spinner');\n",
              "      try {\n",
              "        const charts = await google.colab.kernel.invokeFunction(\n",
              "            'suggestCharts', [key], {});\n",
              "      } catch (error) {\n",
              "        console.error('Error during call to suggestCharts:', error);\n",
              "      }\n",
              "      quickchartButtonEl.classList.remove('colab-df-spinner');\n",
              "      quickchartButtonEl.classList.add('colab-df-quickchart-complete');\n",
              "    }\n",
              "    (() => {\n",
              "      let quickchartButtonEl =\n",
              "        document.querySelector('#df-73c626a6-8fb5-4ea7-b8dc-0deddf2cfed7 button');\n",
              "      quickchartButtonEl.style.display =\n",
              "        google.colab.kernel.accessAllowed ? 'block' : 'none';\n",
              "    })();\n",
              "  </script>\n",
              "</div>\n",
              "\n",
              "    </div>\n",
              "  </div>\n"
            ]
          },
          "metadata": {},
          "execution_count": 4
        }
      ]
    },
    {
      "cell_type": "code",
      "source": [
        "# Define target\n",
        "target_col = \"Status\"\n",
        "\n",
        "\n",
        "# Define X and y\n",
        "y = df[target_col].replace({'D':0,'C':1,'CL':2}).copy()\n",
        "X = df.drop(columns=[target_col]).copy()\n",
        "\n",
        "X_train, X_val, y_train, y_val = train_test_split(X, y,test_size = 0.2,random_state = 42)\n",
        "X_val, X_test, y_val, y_test = train_test_split(X_val, y_val, test_size = 0.5, random_state = 42)"
      ],
      "metadata": {
        "id": "LEtbvSZ36z4U"
      },
      "execution_count": null,
      "outputs": []
    },
    {
      "cell_type": "code",
      "source": [
        "# Categorical Preprocessing Pipeline\n",
        "# Save list of column names\n",
        "ohe_cols = X_train.select_dtypes('object').columns\n",
        "# Instantiate the individual preprocessors\n",
        "impute_na = SimpleImputer(strategy='constant', fill_value = \"NA\")\n",
        "# Instantiate the individual preprocessors\n",
        "ohe_encoder = OneHotEncoder(sparse_output=False, handle_unknown='ignore')\n",
        "# Make pipeline with imputer and encoder\n",
        "ohe_pipe = make_pipeline( impute_na,ohe_encoder)\n",
        "# Making a ohe_tuple for ColumnTransformer\n",
        "ohe_tuple = ('categorical',ohe_pipe, ohe_cols)\n",
        "#________________________________________________________________________\n",
        "# Numerical Prepprocessing Pipeline\n",
        "# Save list of column names\n",
        "num_cols = X_train.select_dtypes(\"number\").columns\n",
        "impute_na = SimpleImputer(strategy='constant', fill_value = 0)\n",
        "# instantiate preprocessors\n",
        "scaler = StandardScaler()\n",
        "# Make a numeric preprocessing pipeline\n",
        "num_pipe = make_pipeline( impute_na,scaler)\n",
        "# Making a numeric tuple for ColumnTransformer\n",
        "num_tuple = ('numeric', num_pipe, num_cols)\n",
        "\n",
        "#_________________________________________________________________\n"
      ],
      "metadata": {
        "id": "DrGcTxvb634a"
      },
      "execution_count": null,
      "outputs": []
    },
    {
      "cell_type": "code",
      "source": [
        "# Create the Column Transformer\n",
        "prepprocessing=ColumnTransformer([num_tuple,ohe_tuple],verbose_feature_names_out=True)\n",
        "prepprocessing"
      ],
      "metadata": {
        "colab": {
          "base_uri": "https://localhost:8080/",
          "height": 153
        },
        "id": "4JXcsT8b649o",
        "outputId": "46b4a5e7-e537-4291-8694-6aaa0d92cbdb"
      },
      "execution_count": null,
      "outputs": [
        {
          "output_type": "execute_result",
          "data": {
            "text/plain": [
              "ColumnTransformer(transformers=[('numeric',\n",
              "                                 Pipeline(steps=[('simpleimputer',\n",
              "                                                  SimpleImputer(fill_value=0,\n",
              "                                                                strategy='constant')),\n",
              "                                                 ('standardscaler',\n",
              "                                                  StandardScaler())]),\n",
              "                                 Index(['N_Days', 'Age', 'Bilirubin', 'Cholesterol', 'Albumin', 'Copper',\n",
              "       'Alk_Phos', 'SGOT', 'Tryglicerides', 'Platelets', 'Prothrombin',\n",
              "       'Stage'],\n",
              "      dtype='object')),\n",
              "                                ('categorical',\n",
              "                                 Pipeline(steps=[('simpleimputer',\n",
              "                                                  SimpleImputer(fill_value='NA',\n",
              "                                                                strategy='constant')),\n",
              "                                                 ('onehotencoder',\n",
              "                                                  OneHotEncoder(handle_unknown='ignore',\n",
              "                                                                sparse_output=False))]),\n",
              "                                 Index(['Drug', 'Sex', 'Ascites', 'Hepatomegaly', 'Spiders', 'Edema'], dtype='object'))])"
            ],
            "text/html": [
              "<style>#sk-container-id-1 {color: black;background-color: white;}#sk-container-id-1 pre{padding: 0;}#sk-container-id-1 div.sk-toggleable {background-color: white;}#sk-container-id-1 label.sk-toggleable__label {cursor: pointer;display: block;width: 100%;margin-bottom: 0;padding: 0.3em;box-sizing: border-box;text-align: center;}#sk-container-id-1 label.sk-toggleable__label-arrow:before {content: \"▸\";float: left;margin-right: 0.25em;color: #696969;}#sk-container-id-1 label.sk-toggleable__label-arrow:hover:before {color: black;}#sk-container-id-1 div.sk-estimator:hover label.sk-toggleable__label-arrow:before {color: black;}#sk-container-id-1 div.sk-toggleable__content {max-height: 0;max-width: 0;overflow: hidden;text-align: left;background-color: #f0f8ff;}#sk-container-id-1 div.sk-toggleable__content pre {margin: 0.2em;color: black;border-radius: 0.25em;background-color: #f0f8ff;}#sk-container-id-1 input.sk-toggleable__control:checked~div.sk-toggleable__content {max-height: 200px;max-width: 100%;overflow: auto;}#sk-container-id-1 input.sk-toggleable__control:checked~label.sk-toggleable__label-arrow:before {content: \"▾\";}#sk-container-id-1 div.sk-estimator input.sk-toggleable__control:checked~label.sk-toggleable__label {background-color: #d4ebff;}#sk-container-id-1 div.sk-label input.sk-toggleable__control:checked~label.sk-toggleable__label {background-color: #d4ebff;}#sk-container-id-1 input.sk-hidden--visually {border: 0;clip: rect(1px 1px 1px 1px);clip: rect(1px, 1px, 1px, 1px);height: 1px;margin: -1px;overflow: hidden;padding: 0;position: absolute;width: 1px;}#sk-container-id-1 div.sk-estimator {font-family: monospace;background-color: #f0f8ff;border: 1px dotted black;border-radius: 0.25em;box-sizing: border-box;margin-bottom: 0.5em;}#sk-container-id-1 div.sk-estimator:hover {background-color: #d4ebff;}#sk-container-id-1 div.sk-parallel-item::after {content: \"\";width: 100%;border-bottom: 1px solid gray;flex-grow: 1;}#sk-container-id-1 div.sk-label:hover label.sk-toggleable__label {background-color: #d4ebff;}#sk-container-id-1 div.sk-serial::before {content: \"\";position: absolute;border-left: 1px solid gray;box-sizing: border-box;top: 0;bottom: 0;left: 50%;z-index: 0;}#sk-container-id-1 div.sk-serial {display: flex;flex-direction: column;align-items: center;background-color: white;padding-right: 0.2em;padding-left: 0.2em;position: relative;}#sk-container-id-1 div.sk-item {position: relative;z-index: 1;}#sk-container-id-1 div.sk-parallel {display: flex;align-items: stretch;justify-content: center;background-color: white;position: relative;}#sk-container-id-1 div.sk-item::before, #sk-container-id-1 div.sk-parallel-item::before {content: \"\";position: absolute;border-left: 1px solid gray;box-sizing: border-box;top: 0;bottom: 0;left: 50%;z-index: -1;}#sk-container-id-1 div.sk-parallel-item {display: flex;flex-direction: column;z-index: 1;position: relative;background-color: white;}#sk-container-id-1 div.sk-parallel-item:first-child::after {align-self: flex-end;width: 50%;}#sk-container-id-1 div.sk-parallel-item:last-child::after {align-self: flex-start;width: 50%;}#sk-container-id-1 div.sk-parallel-item:only-child::after {width: 0;}#sk-container-id-1 div.sk-dashed-wrapped {border: 1px dashed gray;margin: 0 0.4em 0.5em 0.4em;box-sizing: border-box;padding-bottom: 0.4em;background-color: white;}#sk-container-id-1 div.sk-label label {font-family: monospace;font-weight: bold;display: inline-block;line-height: 1.2em;}#sk-container-id-1 div.sk-label-container {text-align: center;}#sk-container-id-1 div.sk-container {/* jupyter's `normalize.less` sets `[hidden] { display: none; }` but bootstrap.min.css set `[hidden] { display: none !important; }` so we also need the `!important` here to be able to override the default hidden behavior on the sphinx rendered scikit-learn.org. See: https://github.com/scikit-learn/scikit-learn/issues/21755 */display: inline-block !important;position: relative;}#sk-container-id-1 div.sk-text-repr-fallback {display: none;}</style><div id=\"sk-container-id-1\" class=\"sk-top-container\"><div class=\"sk-text-repr-fallback\"><pre>ColumnTransformer(transformers=[(&#x27;numeric&#x27;,\n",
              "                                 Pipeline(steps=[(&#x27;simpleimputer&#x27;,\n",
              "                                                  SimpleImputer(fill_value=0,\n",
              "                                                                strategy=&#x27;constant&#x27;)),\n",
              "                                                 (&#x27;standardscaler&#x27;,\n",
              "                                                  StandardScaler())]),\n",
              "                                 Index([&#x27;N_Days&#x27;, &#x27;Age&#x27;, &#x27;Bilirubin&#x27;, &#x27;Cholesterol&#x27;, &#x27;Albumin&#x27;, &#x27;Copper&#x27;,\n",
              "       &#x27;Alk_Phos&#x27;, &#x27;SGOT&#x27;, &#x27;Tryglicerides&#x27;, &#x27;Platelets&#x27;, &#x27;Prothrombin&#x27;,\n",
              "       &#x27;Stage&#x27;],\n",
              "      dtype=&#x27;object&#x27;)),\n",
              "                                (&#x27;categorical&#x27;,\n",
              "                                 Pipeline(steps=[(&#x27;simpleimputer&#x27;,\n",
              "                                                  SimpleImputer(fill_value=&#x27;NA&#x27;,\n",
              "                                                                strategy=&#x27;constant&#x27;)),\n",
              "                                                 (&#x27;onehotencoder&#x27;,\n",
              "                                                  OneHotEncoder(handle_unknown=&#x27;ignore&#x27;,\n",
              "                                                                sparse_output=False))]),\n",
              "                                 Index([&#x27;Drug&#x27;, &#x27;Sex&#x27;, &#x27;Ascites&#x27;, &#x27;Hepatomegaly&#x27;, &#x27;Spiders&#x27;, &#x27;Edema&#x27;], dtype=&#x27;object&#x27;))])</pre><b>In a Jupyter environment, please rerun this cell to show the HTML representation or trust the notebook. <br />On GitHub, the HTML representation is unable to render, please try loading this page with nbviewer.org.</b></div><div class=\"sk-container\" hidden><div class=\"sk-item sk-dashed-wrapped\"><div class=\"sk-label-container\"><div class=\"sk-label sk-toggleable\"><input class=\"sk-toggleable__control sk-hidden--visually\" id=\"sk-estimator-id-1\" type=\"checkbox\" ><label for=\"sk-estimator-id-1\" class=\"sk-toggleable__label sk-toggleable__label-arrow\">ColumnTransformer</label><div class=\"sk-toggleable__content\"><pre>ColumnTransformer(transformers=[(&#x27;numeric&#x27;,\n",
              "                                 Pipeline(steps=[(&#x27;simpleimputer&#x27;,\n",
              "                                                  SimpleImputer(fill_value=0,\n",
              "                                                                strategy=&#x27;constant&#x27;)),\n",
              "                                                 (&#x27;standardscaler&#x27;,\n",
              "                                                  StandardScaler())]),\n",
              "                                 Index([&#x27;N_Days&#x27;, &#x27;Age&#x27;, &#x27;Bilirubin&#x27;, &#x27;Cholesterol&#x27;, &#x27;Albumin&#x27;, &#x27;Copper&#x27;,\n",
              "       &#x27;Alk_Phos&#x27;, &#x27;SGOT&#x27;, &#x27;Tryglicerides&#x27;, &#x27;Platelets&#x27;, &#x27;Prothrombin&#x27;,\n",
              "       &#x27;Stage&#x27;],\n",
              "      dtype=&#x27;object&#x27;)),\n",
              "                                (&#x27;categorical&#x27;,\n",
              "                                 Pipeline(steps=[(&#x27;simpleimputer&#x27;,\n",
              "                                                  SimpleImputer(fill_value=&#x27;NA&#x27;,\n",
              "                                                                strategy=&#x27;constant&#x27;)),\n",
              "                                                 (&#x27;onehotencoder&#x27;,\n",
              "                                                  OneHotEncoder(handle_unknown=&#x27;ignore&#x27;,\n",
              "                                                                sparse_output=False))]),\n",
              "                                 Index([&#x27;Drug&#x27;, &#x27;Sex&#x27;, &#x27;Ascites&#x27;, &#x27;Hepatomegaly&#x27;, &#x27;Spiders&#x27;, &#x27;Edema&#x27;], dtype=&#x27;object&#x27;))])</pre></div></div></div><div class=\"sk-parallel\"><div class=\"sk-parallel-item\"><div class=\"sk-item\"><div class=\"sk-label-container\"><div class=\"sk-label sk-toggleable\"><input class=\"sk-toggleable__control sk-hidden--visually\" id=\"sk-estimator-id-2\" type=\"checkbox\" ><label for=\"sk-estimator-id-2\" class=\"sk-toggleable__label sk-toggleable__label-arrow\">numeric</label><div class=\"sk-toggleable__content\"><pre>Index([&#x27;N_Days&#x27;, &#x27;Age&#x27;, &#x27;Bilirubin&#x27;, &#x27;Cholesterol&#x27;, &#x27;Albumin&#x27;, &#x27;Copper&#x27;,\n",
              "       &#x27;Alk_Phos&#x27;, &#x27;SGOT&#x27;, &#x27;Tryglicerides&#x27;, &#x27;Platelets&#x27;, &#x27;Prothrombin&#x27;,\n",
              "       &#x27;Stage&#x27;],\n",
              "      dtype=&#x27;object&#x27;)</pre></div></div></div><div class=\"sk-serial\"><div class=\"sk-item\"><div class=\"sk-serial\"><div class=\"sk-item\"><div class=\"sk-estimator sk-toggleable\"><input class=\"sk-toggleable__control sk-hidden--visually\" id=\"sk-estimator-id-3\" type=\"checkbox\" ><label for=\"sk-estimator-id-3\" class=\"sk-toggleable__label sk-toggleable__label-arrow\">SimpleImputer</label><div class=\"sk-toggleable__content\"><pre>SimpleImputer(fill_value=0, strategy=&#x27;constant&#x27;)</pre></div></div></div><div class=\"sk-item\"><div class=\"sk-estimator sk-toggleable\"><input class=\"sk-toggleable__control sk-hidden--visually\" id=\"sk-estimator-id-4\" type=\"checkbox\" ><label for=\"sk-estimator-id-4\" class=\"sk-toggleable__label sk-toggleable__label-arrow\">StandardScaler</label><div class=\"sk-toggleable__content\"><pre>StandardScaler()</pre></div></div></div></div></div></div></div></div><div class=\"sk-parallel-item\"><div class=\"sk-item\"><div class=\"sk-label-container\"><div class=\"sk-label sk-toggleable\"><input class=\"sk-toggleable__control sk-hidden--visually\" id=\"sk-estimator-id-5\" type=\"checkbox\" ><label for=\"sk-estimator-id-5\" class=\"sk-toggleable__label sk-toggleable__label-arrow\">categorical</label><div class=\"sk-toggleable__content\"><pre>Index([&#x27;Drug&#x27;, &#x27;Sex&#x27;, &#x27;Ascites&#x27;, &#x27;Hepatomegaly&#x27;, &#x27;Spiders&#x27;, &#x27;Edema&#x27;], dtype=&#x27;object&#x27;)</pre></div></div></div><div class=\"sk-serial\"><div class=\"sk-item\"><div class=\"sk-serial\"><div class=\"sk-item\"><div class=\"sk-estimator sk-toggleable\"><input class=\"sk-toggleable__control sk-hidden--visually\" id=\"sk-estimator-id-6\" type=\"checkbox\" ><label for=\"sk-estimator-id-6\" class=\"sk-toggleable__label sk-toggleable__label-arrow\">SimpleImputer</label><div class=\"sk-toggleable__content\"><pre>SimpleImputer(fill_value=&#x27;NA&#x27;, strategy=&#x27;constant&#x27;)</pre></div></div></div><div class=\"sk-item\"><div class=\"sk-estimator sk-toggleable\"><input class=\"sk-toggleable__control sk-hidden--visually\" id=\"sk-estimator-id-7\" type=\"checkbox\" ><label for=\"sk-estimator-id-7\" class=\"sk-toggleable__label sk-toggleable__label-arrow\">OneHotEncoder</label><div class=\"sk-toggleable__content\"><pre>OneHotEncoder(handle_unknown=&#x27;ignore&#x27;, sparse_output=False)</pre></div></div></div></div></div></div></div></div></div></div></div></div>"
            ]
          },
          "metadata": {},
          "execution_count": 7
        }
      ]
    },
    {
      "cell_type": "code",
      "source": [
        "prepprocessing.fit(X_train)"
      ],
      "metadata": {
        "colab": {
          "base_uri": "https://localhost:8080/",
          "height": 153
        },
        "id": "cyi-jwBF678P",
        "outputId": "3fd05303-2943-4207-9fbb-a4e11028e17f"
      },
      "execution_count": null,
      "outputs": [
        {
          "output_type": "execute_result",
          "data": {
            "text/plain": [
              "ColumnTransformer(transformers=[('numeric',\n",
              "                                 Pipeline(steps=[('simpleimputer',\n",
              "                                                  SimpleImputer(fill_value=0,\n",
              "                                                                strategy='constant')),\n",
              "                                                 ('standardscaler',\n",
              "                                                  StandardScaler())]),\n",
              "                                 Index(['N_Days', 'Age', 'Bilirubin', 'Cholesterol', 'Albumin', 'Copper',\n",
              "       'Alk_Phos', 'SGOT', 'Tryglicerides', 'Platelets', 'Prothrombin',\n",
              "       'Stage'],\n",
              "      dtype='object')),\n",
              "                                ('categorical',\n",
              "                                 Pipeline(steps=[('simpleimputer',\n",
              "                                                  SimpleImputer(fill_value='NA',\n",
              "                                                                strategy='constant')),\n",
              "                                                 ('onehotencoder',\n",
              "                                                  OneHotEncoder(handle_unknown='ignore',\n",
              "                                                                sparse_output=False))]),\n",
              "                                 Index(['Drug', 'Sex', 'Ascites', 'Hepatomegaly', 'Spiders', 'Edema'], dtype='object'))])"
            ],
            "text/html": [
              "<style>#sk-container-id-2 {color: black;background-color: white;}#sk-container-id-2 pre{padding: 0;}#sk-container-id-2 div.sk-toggleable {background-color: white;}#sk-container-id-2 label.sk-toggleable__label {cursor: pointer;display: block;width: 100%;margin-bottom: 0;padding: 0.3em;box-sizing: border-box;text-align: center;}#sk-container-id-2 label.sk-toggleable__label-arrow:before {content: \"▸\";float: left;margin-right: 0.25em;color: #696969;}#sk-container-id-2 label.sk-toggleable__label-arrow:hover:before {color: black;}#sk-container-id-2 div.sk-estimator:hover label.sk-toggleable__label-arrow:before {color: black;}#sk-container-id-2 div.sk-toggleable__content {max-height: 0;max-width: 0;overflow: hidden;text-align: left;background-color: #f0f8ff;}#sk-container-id-2 div.sk-toggleable__content pre {margin: 0.2em;color: black;border-radius: 0.25em;background-color: #f0f8ff;}#sk-container-id-2 input.sk-toggleable__control:checked~div.sk-toggleable__content {max-height: 200px;max-width: 100%;overflow: auto;}#sk-container-id-2 input.sk-toggleable__control:checked~label.sk-toggleable__label-arrow:before {content: \"▾\";}#sk-container-id-2 div.sk-estimator input.sk-toggleable__control:checked~label.sk-toggleable__label {background-color: #d4ebff;}#sk-container-id-2 div.sk-label input.sk-toggleable__control:checked~label.sk-toggleable__label {background-color: #d4ebff;}#sk-container-id-2 input.sk-hidden--visually {border: 0;clip: rect(1px 1px 1px 1px);clip: rect(1px, 1px, 1px, 1px);height: 1px;margin: -1px;overflow: hidden;padding: 0;position: absolute;width: 1px;}#sk-container-id-2 div.sk-estimator {font-family: monospace;background-color: #f0f8ff;border: 1px dotted black;border-radius: 0.25em;box-sizing: border-box;margin-bottom: 0.5em;}#sk-container-id-2 div.sk-estimator:hover {background-color: #d4ebff;}#sk-container-id-2 div.sk-parallel-item::after {content: \"\";width: 100%;border-bottom: 1px solid gray;flex-grow: 1;}#sk-container-id-2 div.sk-label:hover label.sk-toggleable__label {background-color: #d4ebff;}#sk-container-id-2 div.sk-serial::before {content: \"\";position: absolute;border-left: 1px solid gray;box-sizing: border-box;top: 0;bottom: 0;left: 50%;z-index: 0;}#sk-container-id-2 div.sk-serial {display: flex;flex-direction: column;align-items: center;background-color: white;padding-right: 0.2em;padding-left: 0.2em;position: relative;}#sk-container-id-2 div.sk-item {position: relative;z-index: 1;}#sk-container-id-2 div.sk-parallel {display: flex;align-items: stretch;justify-content: center;background-color: white;position: relative;}#sk-container-id-2 div.sk-item::before, #sk-container-id-2 div.sk-parallel-item::before {content: \"\";position: absolute;border-left: 1px solid gray;box-sizing: border-box;top: 0;bottom: 0;left: 50%;z-index: -1;}#sk-container-id-2 div.sk-parallel-item {display: flex;flex-direction: column;z-index: 1;position: relative;background-color: white;}#sk-container-id-2 div.sk-parallel-item:first-child::after {align-self: flex-end;width: 50%;}#sk-container-id-2 div.sk-parallel-item:last-child::after {align-self: flex-start;width: 50%;}#sk-container-id-2 div.sk-parallel-item:only-child::after {width: 0;}#sk-container-id-2 div.sk-dashed-wrapped {border: 1px dashed gray;margin: 0 0.4em 0.5em 0.4em;box-sizing: border-box;padding-bottom: 0.4em;background-color: white;}#sk-container-id-2 div.sk-label label {font-family: monospace;font-weight: bold;display: inline-block;line-height: 1.2em;}#sk-container-id-2 div.sk-label-container {text-align: center;}#sk-container-id-2 div.sk-container {/* jupyter's `normalize.less` sets `[hidden] { display: none; }` but bootstrap.min.css set `[hidden] { display: none !important; }` so we also need the `!important` here to be able to override the default hidden behavior on the sphinx rendered scikit-learn.org. See: https://github.com/scikit-learn/scikit-learn/issues/21755 */display: inline-block !important;position: relative;}#sk-container-id-2 div.sk-text-repr-fallback {display: none;}</style><div id=\"sk-container-id-2\" class=\"sk-top-container\"><div class=\"sk-text-repr-fallback\"><pre>ColumnTransformer(transformers=[(&#x27;numeric&#x27;,\n",
              "                                 Pipeline(steps=[(&#x27;simpleimputer&#x27;,\n",
              "                                                  SimpleImputer(fill_value=0,\n",
              "                                                                strategy=&#x27;constant&#x27;)),\n",
              "                                                 (&#x27;standardscaler&#x27;,\n",
              "                                                  StandardScaler())]),\n",
              "                                 Index([&#x27;N_Days&#x27;, &#x27;Age&#x27;, &#x27;Bilirubin&#x27;, &#x27;Cholesterol&#x27;, &#x27;Albumin&#x27;, &#x27;Copper&#x27;,\n",
              "       &#x27;Alk_Phos&#x27;, &#x27;SGOT&#x27;, &#x27;Tryglicerides&#x27;, &#x27;Platelets&#x27;, &#x27;Prothrombin&#x27;,\n",
              "       &#x27;Stage&#x27;],\n",
              "      dtype=&#x27;object&#x27;)),\n",
              "                                (&#x27;categorical&#x27;,\n",
              "                                 Pipeline(steps=[(&#x27;simpleimputer&#x27;,\n",
              "                                                  SimpleImputer(fill_value=&#x27;NA&#x27;,\n",
              "                                                                strategy=&#x27;constant&#x27;)),\n",
              "                                                 (&#x27;onehotencoder&#x27;,\n",
              "                                                  OneHotEncoder(handle_unknown=&#x27;ignore&#x27;,\n",
              "                                                                sparse_output=False))]),\n",
              "                                 Index([&#x27;Drug&#x27;, &#x27;Sex&#x27;, &#x27;Ascites&#x27;, &#x27;Hepatomegaly&#x27;, &#x27;Spiders&#x27;, &#x27;Edema&#x27;], dtype=&#x27;object&#x27;))])</pre><b>In a Jupyter environment, please rerun this cell to show the HTML representation or trust the notebook. <br />On GitHub, the HTML representation is unable to render, please try loading this page with nbviewer.org.</b></div><div class=\"sk-container\" hidden><div class=\"sk-item sk-dashed-wrapped\"><div class=\"sk-label-container\"><div class=\"sk-label sk-toggleable\"><input class=\"sk-toggleable__control sk-hidden--visually\" id=\"sk-estimator-id-8\" type=\"checkbox\" ><label for=\"sk-estimator-id-8\" class=\"sk-toggleable__label sk-toggleable__label-arrow\">ColumnTransformer</label><div class=\"sk-toggleable__content\"><pre>ColumnTransformer(transformers=[(&#x27;numeric&#x27;,\n",
              "                                 Pipeline(steps=[(&#x27;simpleimputer&#x27;,\n",
              "                                                  SimpleImputer(fill_value=0,\n",
              "                                                                strategy=&#x27;constant&#x27;)),\n",
              "                                                 (&#x27;standardscaler&#x27;,\n",
              "                                                  StandardScaler())]),\n",
              "                                 Index([&#x27;N_Days&#x27;, &#x27;Age&#x27;, &#x27;Bilirubin&#x27;, &#x27;Cholesterol&#x27;, &#x27;Albumin&#x27;, &#x27;Copper&#x27;,\n",
              "       &#x27;Alk_Phos&#x27;, &#x27;SGOT&#x27;, &#x27;Tryglicerides&#x27;, &#x27;Platelets&#x27;, &#x27;Prothrombin&#x27;,\n",
              "       &#x27;Stage&#x27;],\n",
              "      dtype=&#x27;object&#x27;)),\n",
              "                                (&#x27;categorical&#x27;,\n",
              "                                 Pipeline(steps=[(&#x27;simpleimputer&#x27;,\n",
              "                                                  SimpleImputer(fill_value=&#x27;NA&#x27;,\n",
              "                                                                strategy=&#x27;constant&#x27;)),\n",
              "                                                 (&#x27;onehotencoder&#x27;,\n",
              "                                                  OneHotEncoder(handle_unknown=&#x27;ignore&#x27;,\n",
              "                                                                sparse_output=False))]),\n",
              "                                 Index([&#x27;Drug&#x27;, &#x27;Sex&#x27;, &#x27;Ascites&#x27;, &#x27;Hepatomegaly&#x27;, &#x27;Spiders&#x27;, &#x27;Edema&#x27;], dtype=&#x27;object&#x27;))])</pre></div></div></div><div class=\"sk-parallel\"><div class=\"sk-parallel-item\"><div class=\"sk-item\"><div class=\"sk-label-container\"><div class=\"sk-label sk-toggleable\"><input class=\"sk-toggleable__control sk-hidden--visually\" id=\"sk-estimator-id-9\" type=\"checkbox\" ><label for=\"sk-estimator-id-9\" class=\"sk-toggleable__label sk-toggleable__label-arrow\">numeric</label><div class=\"sk-toggleable__content\"><pre>Index([&#x27;N_Days&#x27;, &#x27;Age&#x27;, &#x27;Bilirubin&#x27;, &#x27;Cholesterol&#x27;, &#x27;Albumin&#x27;, &#x27;Copper&#x27;,\n",
              "       &#x27;Alk_Phos&#x27;, &#x27;SGOT&#x27;, &#x27;Tryglicerides&#x27;, &#x27;Platelets&#x27;, &#x27;Prothrombin&#x27;,\n",
              "       &#x27;Stage&#x27;],\n",
              "      dtype=&#x27;object&#x27;)</pre></div></div></div><div class=\"sk-serial\"><div class=\"sk-item\"><div class=\"sk-serial\"><div class=\"sk-item\"><div class=\"sk-estimator sk-toggleable\"><input class=\"sk-toggleable__control sk-hidden--visually\" id=\"sk-estimator-id-10\" type=\"checkbox\" ><label for=\"sk-estimator-id-10\" class=\"sk-toggleable__label sk-toggleable__label-arrow\">SimpleImputer</label><div class=\"sk-toggleable__content\"><pre>SimpleImputer(fill_value=0, strategy=&#x27;constant&#x27;)</pre></div></div></div><div class=\"sk-item\"><div class=\"sk-estimator sk-toggleable\"><input class=\"sk-toggleable__control sk-hidden--visually\" id=\"sk-estimator-id-11\" type=\"checkbox\" ><label for=\"sk-estimator-id-11\" class=\"sk-toggleable__label sk-toggleable__label-arrow\">StandardScaler</label><div class=\"sk-toggleable__content\"><pre>StandardScaler()</pre></div></div></div></div></div></div></div></div><div class=\"sk-parallel-item\"><div class=\"sk-item\"><div class=\"sk-label-container\"><div class=\"sk-label sk-toggleable\"><input class=\"sk-toggleable__control sk-hidden--visually\" id=\"sk-estimator-id-12\" type=\"checkbox\" ><label for=\"sk-estimator-id-12\" class=\"sk-toggleable__label sk-toggleable__label-arrow\">categorical</label><div class=\"sk-toggleable__content\"><pre>Index([&#x27;Drug&#x27;, &#x27;Sex&#x27;, &#x27;Ascites&#x27;, &#x27;Hepatomegaly&#x27;, &#x27;Spiders&#x27;, &#x27;Edema&#x27;], dtype=&#x27;object&#x27;)</pre></div></div></div><div class=\"sk-serial\"><div class=\"sk-item\"><div class=\"sk-serial\"><div class=\"sk-item\"><div class=\"sk-estimator sk-toggleable\"><input class=\"sk-toggleable__control sk-hidden--visually\" id=\"sk-estimator-id-13\" type=\"checkbox\" ><label for=\"sk-estimator-id-13\" class=\"sk-toggleable__label sk-toggleable__label-arrow\">SimpleImputer</label><div class=\"sk-toggleable__content\"><pre>SimpleImputer(fill_value=&#x27;NA&#x27;, strategy=&#x27;constant&#x27;)</pre></div></div></div><div class=\"sk-item\"><div class=\"sk-estimator sk-toggleable\"><input class=\"sk-toggleable__control sk-hidden--visually\" id=\"sk-estimator-id-14\" type=\"checkbox\" ><label for=\"sk-estimator-id-14\" class=\"sk-toggleable__label sk-toggleable__label-arrow\">OneHotEncoder</label><div class=\"sk-toggleable__content\"><pre>OneHotEncoder(handle_unknown=&#x27;ignore&#x27;, sparse_output=False)</pre></div></div></div></div></div></div></div></div></div></div></div></div>"
            ]
          },
          "metadata": {},
          "execution_count": 8
        }
      ]
    },
    {
      "cell_type": "code",
      "source": [
        "# Transform the training data\n",
        "X_train_processed = prepprocessing.transform(X_train)\n",
        "# Transform the valditon data\n",
        "X_val_processed=prepprocessing.transform(X_val)\n",
        "# Transform the testing data\n",
        "X_test_processed = prepprocessing.transform(X_test)\n",
        "# View the processed training data\n",
        "X_train_processed.head()\n",
        "\n"
      ],
      "metadata": {
        "colab": {
          "base_uri": "https://localhost:8080/",
          "height": 287
        },
        "id": "ZAILxxcA7IDX",
        "outputId": "ec67b50e-efde-4720-8c47-8c0c664d8df5"
      },
      "execution_count": null,
      "outputs": [
        {
          "output_type": "execute_result",
          "data": {
            "text/plain": [
              "     numeric__N_Days  numeric__Age  numeric__Bilirubin  numeric__Cholesterol  \\\n",
              "ID                                                                             \n",
              "337         0.333671      0.490373           -0.293650             -0.988793   \n",
              "32          2.436729      0.301016           -0.293650              0.015960   \n",
              "85          1.341484     -0.339484           -0.223106              0.015960   \n",
              "288        -0.812340     -0.177031            1.328852              0.200037   \n",
              "318        -0.236044     -0.737857           -0.552310             -0.988793   \n",
              "\n",
              "     numeric__Albumin  numeric__Copper  numeric__Alk_Phos  numeric__SGOT  \\\n",
              "ID                                                                         \n",
              "337          0.332534        -0.905697          -0.762412      -1.340890   \n",
              "32          -0.380039         0.389022           3.105121      -0.107845   \n",
              "85          -0.047505        -0.162195           0.324452       0.001779   \n",
              "288          0.926345         0.465936          -0.423863       0.406521   \n",
              "318          0.427544        -0.905697          -0.762412      -1.340890   \n",
              "\n",
              "     numeric__Tryglicerides  numeric__Platelets  ...  categorical__Ascites_Y  \\\n",
              "ID                                               ...                           \n",
              "337               -1.087195           -1.061514  ...                     0.0   \n",
              "32                 0.896536            0.313723  ...                     0.0   \n",
              "85                -0.032553           -0.264825  ...                     0.0   \n",
              "288                1.951178            0.427536  ...                     0.0   \n",
              "318               -1.087195            0.503411  ...                     0.0   \n",
              "\n",
              "     categorical__Hepatomegaly_N  categorical__Hepatomegaly_NA  \\\n",
              "ID                                                               \n",
              "337                          0.0                           1.0   \n",
              "32                           0.0                           0.0   \n",
              "85                           0.0                           0.0   \n",
              "288                          0.0                           0.0   \n",
              "318                          0.0                           1.0   \n",
              "\n",
              "     categorical__Hepatomegaly_Y  categorical__Spiders_N  \\\n",
              "ID                                                         \n",
              "337                          0.0                     0.0   \n",
              "32                           1.0                     1.0   \n",
              "85                           1.0                     1.0   \n",
              "288                          1.0                     1.0   \n",
              "318                          0.0                     0.0   \n",
              "\n",
              "     categorical__Spiders_NA  categorical__Spiders_Y  categorical__Edema_N  \\\n",
              "ID                                                                           \n",
              "337                      1.0                     0.0                   1.0   \n",
              "32                       0.0                     0.0                   1.0   \n",
              "85                       0.0                     0.0                   1.0   \n",
              "288                      0.0                     0.0                   0.0   \n",
              "318                      1.0                     0.0                   1.0   \n",
              "\n",
              "     categorical__Edema_S  categorical__Edema_Y  \n",
              "ID                                               \n",
              "337                   0.0                   0.0  \n",
              "32                    0.0                   0.0  \n",
              "85                    0.0                   0.0  \n",
              "288                   1.0                   0.0  \n",
              "318                   0.0                   0.0  \n",
              "\n",
              "[5 rows x 29 columns]"
            ],
            "text/html": [
              "\n",
              "  <div id=\"df-b9aa2809-7b3b-4d01-a830-86786477136c\" class=\"colab-df-container\">\n",
              "    <div>\n",
              "<style scoped>\n",
              "    .dataframe tbody tr th:only-of-type {\n",
              "        vertical-align: middle;\n",
              "    }\n",
              "\n",
              "    .dataframe tbody tr th {\n",
              "        vertical-align: top;\n",
              "    }\n",
              "\n",
              "    .dataframe thead th {\n",
              "        text-align: right;\n",
              "    }\n",
              "</style>\n",
              "<table border=\"1\" class=\"dataframe\">\n",
              "  <thead>\n",
              "    <tr style=\"text-align: right;\">\n",
              "      <th></th>\n",
              "      <th>numeric__N_Days</th>\n",
              "      <th>numeric__Age</th>\n",
              "      <th>numeric__Bilirubin</th>\n",
              "      <th>numeric__Cholesterol</th>\n",
              "      <th>numeric__Albumin</th>\n",
              "      <th>numeric__Copper</th>\n",
              "      <th>numeric__Alk_Phos</th>\n",
              "      <th>numeric__SGOT</th>\n",
              "      <th>numeric__Tryglicerides</th>\n",
              "      <th>numeric__Platelets</th>\n",
              "      <th>...</th>\n",
              "      <th>categorical__Ascites_Y</th>\n",
              "      <th>categorical__Hepatomegaly_N</th>\n",
              "      <th>categorical__Hepatomegaly_NA</th>\n",
              "      <th>categorical__Hepatomegaly_Y</th>\n",
              "      <th>categorical__Spiders_N</th>\n",
              "      <th>categorical__Spiders_NA</th>\n",
              "      <th>categorical__Spiders_Y</th>\n",
              "      <th>categorical__Edema_N</th>\n",
              "      <th>categorical__Edema_S</th>\n",
              "      <th>categorical__Edema_Y</th>\n",
              "    </tr>\n",
              "    <tr>\n",
              "      <th>ID</th>\n",
              "      <th></th>\n",
              "      <th></th>\n",
              "      <th></th>\n",
              "      <th></th>\n",
              "      <th></th>\n",
              "      <th></th>\n",
              "      <th></th>\n",
              "      <th></th>\n",
              "      <th></th>\n",
              "      <th></th>\n",
              "      <th></th>\n",
              "      <th></th>\n",
              "      <th></th>\n",
              "      <th></th>\n",
              "      <th></th>\n",
              "      <th></th>\n",
              "      <th></th>\n",
              "      <th></th>\n",
              "      <th></th>\n",
              "      <th></th>\n",
              "      <th></th>\n",
              "    </tr>\n",
              "  </thead>\n",
              "  <tbody>\n",
              "    <tr>\n",
              "      <th>337</th>\n",
              "      <td>0.333671</td>\n",
              "      <td>0.490373</td>\n",
              "      <td>-0.293650</td>\n",
              "      <td>-0.988793</td>\n",
              "      <td>0.332534</td>\n",
              "      <td>-0.905697</td>\n",
              "      <td>-0.762412</td>\n",
              "      <td>-1.340890</td>\n",
              "      <td>-1.087195</td>\n",
              "      <td>-1.061514</td>\n",
              "      <td>...</td>\n",
              "      <td>0.0</td>\n",
              "      <td>0.0</td>\n",
              "      <td>1.0</td>\n",
              "      <td>0.0</td>\n",
              "      <td>0.0</td>\n",
              "      <td>1.0</td>\n",
              "      <td>0.0</td>\n",
              "      <td>1.0</td>\n",
              "      <td>0.0</td>\n",
              "      <td>0.0</td>\n",
              "    </tr>\n",
              "    <tr>\n",
              "      <th>32</th>\n",
              "      <td>2.436729</td>\n",
              "      <td>0.301016</td>\n",
              "      <td>-0.293650</td>\n",
              "      <td>0.015960</td>\n",
              "      <td>-0.380039</td>\n",
              "      <td>0.389022</td>\n",
              "      <td>3.105121</td>\n",
              "      <td>-0.107845</td>\n",
              "      <td>0.896536</td>\n",
              "      <td>0.313723</td>\n",
              "      <td>...</td>\n",
              "      <td>0.0</td>\n",
              "      <td>0.0</td>\n",
              "      <td>0.0</td>\n",
              "      <td>1.0</td>\n",
              "      <td>1.0</td>\n",
              "      <td>0.0</td>\n",
              "      <td>0.0</td>\n",
              "      <td>1.0</td>\n",
              "      <td>0.0</td>\n",
              "      <td>0.0</td>\n",
              "    </tr>\n",
              "    <tr>\n",
              "      <th>85</th>\n",
              "      <td>1.341484</td>\n",
              "      <td>-0.339484</td>\n",
              "      <td>-0.223106</td>\n",
              "      <td>0.015960</td>\n",
              "      <td>-0.047505</td>\n",
              "      <td>-0.162195</td>\n",
              "      <td>0.324452</td>\n",
              "      <td>0.001779</td>\n",
              "      <td>-0.032553</td>\n",
              "      <td>-0.264825</td>\n",
              "      <td>...</td>\n",
              "      <td>0.0</td>\n",
              "      <td>0.0</td>\n",
              "      <td>0.0</td>\n",
              "      <td>1.0</td>\n",
              "      <td>1.0</td>\n",
              "      <td>0.0</td>\n",
              "      <td>0.0</td>\n",
              "      <td>1.0</td>\n",
              "      <td>0.0</td>\n",
              "      <td>0.0</td>\n",
              "    </tr>\n",
              "    <tr>\n",
              "      <th>288</th>\n",
              "      <td>-0.812340</td>\n",
              "      <td>-0.177031</td>\n",
              "      <td>1.328852</td>\n",
              "      <td>0.200037</td>\n",
              "      <td>0.926345</td>\n",
              "      <td>0.465936</td>\n",
              "      <td>-0.423863</td>\n",
              "      <td>0.406521</td>\n",
              "      <td>1.951178</td>\n",
              "      <td>0.427536</td>\n",
              "      <td>...</td>\n",
              "      <td>0.0</td>\n",
              "      <td>0.0</td>\n",
              "      <td>0.0</td>\n",
              "      <td>1.0</td>\n",
              "      <td>1.0</td>\n",
              "      <td>0.0</td>\n",
              "      <td>0.0</td>\n",
              "      <td>0.0</td>\n",
              "      <td>1.0</td>\n",
              "      <td>0.0</td>\n",
              "    </tr>\n",
              "    <tr>\n",
              "      <th>318</th>\n",
              "      <td>-0.236044</td>\n",
              "      <td>-0.737857</td>\n",
              "      <td>-0.552310</td>\n",
              "      <td>-0.988793</td>\n",
              "      <td>0.427544</td>\n",
              "      <td>-0.905697</td>\n",
              "      <td>-0.762412</td>\n",
              "      <td>-1.340890</td>\n",
              "      <td>-1.087195</td>\n",
              "      <td>0.503411</td>\n",
              "      <td>...</td>\n",
              "      <td>0.0</td>\n",
              "      <td>0.0</td>\n",
              "      <td>1.0</td>\n",
              "      <td>0.0</td>\n",
              "      <td>0.0</td>\n",
              "      <td>1.0</td>\n",
              "      <td>0.0</td>\n",
              "      <td>1.0</td>\n",
              "      <td>0.0</td>\n",
              "      <td>0.0</td>\n",
              "    </tr>\n",
              "  </tbody>\n",
              "</table>\n",
              "<p>5 rows × 29 columns</p>\n",
              "</div>\n",
              "    <div class=\"colab-df-buttons\">\n",
              "\n",
              "  <div class=\"colab-df-container\">\n",
              "    <button class=\"colab-df-convert\" onclick=\"convertToInteractive('df-b9aa2809-7b3b-4d01-a830-86786477136c')\"\n",
              "            title=\"Convert this dataframe to an interactive table.\"\n",
              "            style=\"display:none;\">\n",
              "\n",
              "  <svg xmlns=\"http://www.w3.org/2000/svg\" height=\"24px\" viewBox=\"0 -960 960 960\">\n",
              "    <path d=\"M120-120v-720h720v720H120Zm60-500h600v-160H180v160Zm220 220h160v-160H400v160Zm0 220h160v-160H400v160ZM180-400h160v-160H180v160Zm440 0h160v-160H620v160ZM180-180h160v-160H180v160Zm440 0h160v-160H620v160Z\"/>\n",
              "  </svg>\n",
              "    </button>\n",
              "\n",
              "  <style>\n",
              "    .colab-df-container {\n",
              "      display:flex;\n",
              "      gap: 12px;\n",
              "    }\n",
              "\n",
              "    .colab-df-convert {\n",
              "      background-color: #E8F0FE;\n",
              "      border: none;\n",
              "      border-radius: 50%;\n",
              "      cursor: pointer;\n",
              "      display: none;\n",
              "      fill: #1967D2;\n",
              "      height: 32px;\n",
              "      padding: 0 0 0 0;\n",
              "      width: 32px;\n",
              "    }\n",
              "\n",
              "    .colab-df-convert:hover {\n",
              "      background-color: #E2EBFA;\n",
              "      box-shadow: 0px 1px 2px rgba(60, 64, 67, 0.3), 0px 1px 3px 1px rgba(60, 64, 67, 0.15);\n",
              "      fill: #174EA6;\n",
              "    }\n",
              "\n",
              "    .colab-df-buttons div {\n",
              "      margin-bottom: 4px;\n",
              "    }\n",
              "\n",
              "    [theme=dark] .colab-df-convert {\n",
              "      background-color: #3B4455;\n",
              "      fill: #D2E3FC;\n",
              "    }\n",
              "\n",
              "    [theme=dark] .colab-df-convert:hover {\n",
              "      background-color: #434B5C;\n",
              "      box-shadow: 0px 1px 3px 1px rgba(0, 0, 0, 0.15);\n",
              "      filter: drop-shadow(0px 1px 2px rgba(0, 0, 0, 0.3));\n",
              "      fill: #FFFFFF;\n",
              "    }\n",
              "  </style>\n",
              "\n",
              "    <script>\n",
              "      const buttonEl =\n",
              "        document.querySelector('#df-b9aa2809-7b3b-4d01-a830-86786477136c button.colab-df-convert');\n",
              "      buttonEl.style.display =\n",
              "        google.colab.kernel.accessAllowed ? 'block' : 'none';\n",
              "\n",
              "      async function convertToInteractive(key) {\n",
              "        const element = document.querySelector('#df-b9aa2809-7b3b-4d01-a830-86786477136c');\n",
              "        const dataTable =\n",
              "          await google.colab.kernel.invokeFunction('convertToInteractive',\n",
              "                                                    [key], {});\n",
              "        if (!dataTable) return;\n",
              "\n",
              "        const docLinkHtml = 'Like what you see? Visit the ' +\n",
              "          '<a target=\"_blank\" href=https://colab.research.google.com/notebooks/data_table.ipynb>data table notebook</a>'\n",
              "          + ' to learn more about interactive tables.';\n",
              "        element.innerHTML = '';\n",
              "        dataTable['output_type'] = 'display_data';\n",
              "        await google.colab.output.renderOutput(dataTable, element);\n",
              "        const docLink = document.createElement('div');\n",
              "        docLink.innerHTML = docLinkHtml;\n",
              "        element.appendChild(docLink);\n",
              "      }\n",
              "    </script>\n",
              "  </div>\n",
              "\n",
              "\n",
              "<div id=\"df-632619db-5901-4cbc-beb2-314de2dfce09\">\n",
              "  <button class=\"colab-df-quickchart\" onclick=\"quickchart('df-632619db-5901-4cbc-beb2-314de2dfce09')\"\n",
              "            title=\"Suggest charts\"\n",
              "            style=\"display:none;\">\n",
              "\n",
              "<svg xmlns=\"http://www.w3.org/2000/svg\" height=\"24px\"viewBox=\"0 0 24 24\"\n",
              "     width=\"24px\">\n",
              "    <g>\n",
              "        <path d=\"M19 3H5c-1.1 0-2 .9-2 2v14c0 1.1.9 2 2 2h14c1.1 0 2-.9 2-2V5c0-1.1-.9-2-2-2zM9 17H7v-7h2v7zm4 0h-2V7h2v10zm4 0h-2v-4h2v4z\"/>\n",
              "    </g>\n",
              "</svg>\n",
              "  </button>\n",
              "\n",
              "<style>\n",
              "  .colab-df-quickchart {\n",
              "      --bg-color: #E8F0FE;\n",
              "      --fill-color: #1967D2;\n",
              "      --hover-bg-color: #E2EBFA;\n",
              "      --hover-fill-color: #174EA6;\n",
              "      --disabled-fill-color: #AAA;\n",
              "      --disabled-bg-color: #DDD;\n",
              "  }\n",
              "\n",
              "  [theme=dark] .colab-df-quickchart {\n",
              "      --bg-color: #3B4455;\n",
              "      --fill-color: #D2E3FC;\n",
              "      --hover-bg-color: #434B5C;\n",
              "      --hover-fill-color: #FFFFFF;\n",
              "      --disabled-bg-color: #3B4455;\n",
              "      --disabled-fill-color: #666;\n",
              "  }\n",
              "\n",
              "  .colab-df-quickchart {\n",
              "    background-color: var(--bg-color);\n",
              "    border: none;\n",
              "    border-radius: 50%;\n",
              "    cursor: pointer;\n",
              "    display: none;\n",
              "    fill: var(--fill-color);\n",
              "    height: 32px;\n",
              "    padding: 0;\n",
              "    width: 32px;\n",
              "  }\n",
              "\n",
              "  .colab-df-quickchart:hover {\n",
              "    background-color: var(--hover-bg-color);\n",
              "    box-shadow: 0 1px 2px rgba(60, 64, 67, 0.3), 0 1px 3px 1px rgba(60, 64, 67, 0.15);\n",
              "    fill: var(--button-hover-fill-color);\n",
              "  }\n",
              "\n",
              "  .colab-df-quickchart-complete:disabled,\n",
              "  .colab-df-quickchart-complete:disabled:hover {\n",
              "    background-color: var(--disabled-bg-color);\n",
              "    fill: var(--disabled-fill-color);\n",
              "    box-shadow: none;\n",
              "  }\n",
              "\n",
              "  .colab-df-spinner {\n",
              "    border: 2px solid var(--fill-color);\n",
              "    border-color: transparent;\n",
              "    border-bottom-color: var(--fill-color);\n",
              "    animation:\n",
              "      spin 1s steps(1) infinite;\n",
              "  }\n",
              "\n",
              "  @keyframes spin {\n",
              "    0% {\n",
              "      border-color: transparent;\n",
              "      border-bottom-color: var(--fill-color);\n",
              "      border-left-color: var(--fill-color);\n",
              "    }\n",
              "    20% {\n",
              "      border-color: transparent;\n",
              "      border-left-color: var(--fill-color);\n",
              "      border-top-color: var(--fill-color);\n",
              "    }\n",
              "    30% {\n",
              "      border-color: transparent;\n",
              "      border-left-color: var(--fill-color);\n",
              "      border-top-color: var(--fill-color);\n",
              "      border-right-color: var(--fill-color);\n",
              "    }\n",
              "    40% {\n",
              "      border-color: transparent;\n",
              "      border-right-color: var(--fill-color);\n",
              "      border-top-color: var(--fill-color);\n",
              "    }\n",
              "    60% {\n",
              "      border-color: transparent;\n",
              "      border-right-color: var(--fill-color);\n",
              "    }\n",
              "    80% {\n",
              "      border-color: transparent;\n",
              "      border-right-color: var(--fill-color);\n",
              "      border-bottom-color: var(--fill-color);\n",
              "    }\n",
              "    90% {\n",
              "      border-color: transparent;\n",
              "      border-bottom-color: var(--fill-color);\n",
              "    }\n",
              "  }\n",
              "</style>\n",
              "\n",
              "  <script>\n",
              "    async function quickchart(key) {\n",
              "      const quickchartButtonEl =\n",
              "        document.querySelector('#' + key + ' button');\n",
              "      quickchartButtonEl.disabled = true;  // To prevent multiple clicks.\n",
              "      quickchartButtonEl.classList.add('colab-df-spinner');\n",
              "      try {\n",
              "        const charts = await google.colab.kernel.invokeFunction(\n",
              "            'suggestCharts', [key], {});\n",
              "      } catch (error) {\n",
              "        console.error('Error during call to suggestCharts:', error);\n",
              "      }\n",
              "      quickchartButtonEl.classList.remove('colab-df-spinner');\n",
              "      quickchartButtonEl.classList.add('colab-df-quickchart-complete');\n",
              "    }\n",
              "    (() => {\n",
              "      let quickchartButtonEl =\n",
              "        document.querySelector('#df-632619db-5901-4cbc-beb2-314de2dfce09 button');\n",
              "      quickchartButtonEl.style.display =\n",
              "        google.colab.kernel.accessAllowed ? 'block' : 'none';\n",
              "    })();\n",
              "  </script>\n",
              "</div>\n",
              "\n",
              "    </div>\n",
              "  </div>\n"
            ]
          },
          "metadata": {},
          "execution_count": 9
        }
      ]
    },
    {
      "cell_type": "code",
      "source": [
        "from imblearn.over_sampling import SMOTE,SMOTENC\n",
        "smote = SMOTE()\n",
        "X_train_sm, y_train_sm = smote.fit_resample(X_train_processed , y_train)\n",
        "y_train_sm.value_counts()"
      ],
      "metadata": {
        "colab": {
          "base_uri": "https://localhost:8080/"
        },
        "id": "AvSYnOdG7NnJ",
        "outputId": "022a00bc-d1fa-47a0-d6fa-555a2d35db89"
      },
      "execution_count": null,
      "outputs": [
        {
          "output_type": "execute_result",
          "data": {
            "text/plain": [
              "0    188\n",
              "1    188\n",
              "2    188\n",
              "Name: Status, dtype: int64"
            ]
          },
          "metadata": {},
          "execution_count": 10
        }
      ]
    },
    {
      "cell_type": "code",
      "source": [
        "from sklearn.preprocessing import LabelEncoder, LabelBinarizer\n",
        "# encode labels\n",
        "encoder = LabelEncoder()\n",
        "\n",
        "encoder.fit(y_train_sm)\n",
        "y_train_enc = encoder.transform(y_train_sm)\n",
        "y_test_enc = encoder.transform(y_test)\n",
        "\n",
        "# make a record of the classes, in order of the encoding, in case we want to\n",
        "# translate predictions into fish names later.\n",
        "classes = encoder.classes_\n",
        "\n",
        "# binarize labels\n",
        "binarizer = LabelBinarizer()\n",
        "\n",
        "binarizer.fit(y_train_enc)\n",
        "y_train_bin = binarizer.transform(y_train_enc)\n",
        "y_test_bin = binarizer.transform(y_test_enc)\n",
        "\n",
        "# check results\n",
        "print('Original Target')\n",
        "print(y_train.head())\n",
        "\n",
        "print('\\nEncoded Target')\n",
        "print(y_train_enc[:5])\n",
        "\n",
        "print('\\nBinarized Target')\n",
        "print(y_train_bin[:5])"
      ],
      "metadata": {
        "colab": {
          "base_uri": "https://localhost:8080/"
        },
        "id": "jLI3aW8O8iw-",
        "outputId": "c162736b-ff56-4cc5-cab9-858db6a54d54"
      },
      "execution_count": null,
      "outputs": [
        {
          "output_type": "stream",
          "name": "stdout",
          "text": [
            "Original Target\n",
            "ID\n",
            "337    0\n",
            "32     1\n",
            "85     0\n",
            "288    2\n",
            "318    1\n",
            "Name: Status, dtype: int64\n",
            "\n",
            "Encoded Target\n",
            "[0 1 0 2 1]\n",
            "\n",
            "Binarized Target\n",
            "[[1 0 0]\n",
            " [0 1 0]\n",
            " [1 0 0]\n",
            " [0 0 1]\n",
            " [0 1 0]]\n"
          ]
        }
      ]
    },
    {
      "cell_type": "code",
      "source": [
        "# Define input shape\n",
        "input_shape = X_train_sm.shape[1]\n",
        "input_shape"
      ],
      "metadata": {
        "colab": {
          "base_uri": "https://localhost:8080/"
        },
        "id": "YIlMhzzW7wsl",
        "outputId": "7bcb0966-1210-4748-9e7a-264b384b0f99"
      },
      "execution_count": null,
      "outputs": [
        {
          "output_type": "execute_result",
          "data": {
            "text/plain": [
              "29"
            ]
          },
          "metadata": {},
          "execution_count": 12
        }
      ]
    },
    {
      "cell_type": "code",
      "source": [
        "# Define number of classes\n",
        "num_classes = len(classes)\n",
        "num_classes"
      ],
      "metadata": {
        "colab": {
          "base_uri": "https://localhost:8080/"
        },
        "id": "FyE5g9t887zm",
        "outputId": "ae7a1506-21cf-4f66-e427-312fcaf94db5"
      },
      "execution_count": null,
      "outputs": [
        {
          "output_type": "execute_result",
          "data": {
            "text/plain": [
              "3"
            ]
          },
          "metadata": {},
          "execution_count": 13
        }
      ]
    },
    {
      "cell_type": "markdown",
      "source": [
        "- # Build a small neural network (with only 1 hidden layer)\n",
        "   - Ensure the final layer is appropriate for your task (number of units and activation function).\n",
        "   - Fit it for 50 epochs\n",
        "   - Use the Early Stopping callback\n",
        "     - Start with patience =5 monitoring val_accuracy.\n",
        "   - Use a validation_split of .2\n",
        "   - Save the history and visualize it."
      ],
      "metadata": {
        "id": "mqwhm5Go0lYp"
      }
    },
    {
      "cell_type": "code",
      "source": [
        "# Build multiclass classification model within function\n",
        "def build_model():\n",
        "    # Instantiate Model\n",
        "    model = Sequential()\n",
        "\n",
        "    # First hidden layer\n",
        "    model.add(Dense(29, # How many neurons you have in your first hidden layer\n",
        "                input_dim =input_shape, # What is the shape of your input features (number of columns)\n",
        "                activation = 'relu')) # What activation function are you using?\n",
        "    model.add(Dense(10,\n",
        "                activation = 'relu'))\n",
        "    #Output layer\n",
        "    model.add(Dense(num_classes, activation = 'softmax'))\n",
        "\n",
        "\n",
        "    # Compile Model\n",
        "    model.compile(loss ='categorical_crossentropy', optimizer = 'adam',\n",
        "             metrics=['accuracy', metrics.Precision(), metrics.Recall()])\n",
        "    return model"
      ],
      "metadata": {
        "id": "F3Ktx8oj7avC"
      },
      "execution_count": null,
      "outputs": []
    },
    {
      "cell_type": "code",
      "source": [
        "# Call our build function to build model\n",
        "multi_model = build_model()\n",
        "\n",
        "# Get model summary\n",
        "multi_model.summary()"
      ],
      "metadata": {
        "colab": {
          "base_uri": "https://localhost:8080/"
        },
        "id": "f-5cn7Us9ejp",
        "outputId": "0167288b-0082-4b88-f547-5268a1ff686e"
      },
      "execution_count": null,
      "outputs": [
        {
          "output_type": "stream",
          "name": "stdout",
          "text": [
            "Model: \"sequential\"\n",
            "_________________________________________________________________\n",
            " Layer (type)                Output Shape              Param #   \n",
            "=================================================================\n",
            " dense (Dense)               (None, 29)                870       \n",
            "                                                                 \n",
            " dense_1 (Dense)             (None, 10)                300       \n",
            "                                                                 \n",
            " dense_2 (Dense)             (None, 3)                 33        \n",
            "                                                                 \n",
            "=================================================================\n",
            "Total params: 1203 (4.70 KB)\n",
            "Trainable params: 1203 (4.70 KB)\n",
            "Non-trainable params: 0 (0.00 Byte)\n",
            "_________________________________________________________________\n"
          ]
        }
      ]
    },
    {
      "cell_type": "code",
      "source": [
        "# fit model\n",
        "from tensorflow.keras.callbacks import EarlyStopping\n",
        " # Instantiate EarlyStopping\n",
        "early_stopping = EarlyStopping(patience = 5)\n",
        "\n",
        "\n"
      ],
      "metadata": {
        "id": "6NOhCyxH93Op"
      },
      "execution_count": null,
      "outputs": []
    },
    {
      "cell_type": "code",
      "source": [
        "# Fit the model with the early stopping callback\n",
        "history =multi_model.fit(X_train_sm, y_train_bin,\n",
        "                    validation_split = .2,\n",
        "                    epochs=50,\n",
        "                    callbacks = [early_stopping])"
      ],
      "metadata": {
        "colab": {
          "base_uri": "https://localhost:8080/"
        },
        "id": "Bu4oaqcKCOUj",
        "outputId": "dab57a5b-5eab-481a-841c-9d6e991392e6"
      },
      "execution_count": null,
      "outputs": [
        {
          "output_type": "stream",
          "name": "stdout",
          "text": [
            "Epoch 1/50\n",
            "15/15 [==============================] - 4s 43ms/step - loss: 1.0866 - accuracy: 0.4279 - precision: 0.5035 - recall: 0.1574 - val_loss: 1.2677 - val_accuracy: 0.1062 - val_precision: 0.0000e+00 - val_recall: 0.0000e+00\n",
            "Epoch 2/50\n",
            "15/15 [==============================] - 0s 6ms/step - loss: 0.9979 - accuracy: 0.5455 - precision: 0.6642 - recall: 0.1973 - val_loss: 1.3101 - val_accuracy: 0.0442 - val_precision: 0.0000e+00 - val_recall: 0.0000e+00\n",
            "Epoch 3/50\n",
            "15/15 [==============================] - 0s 6ms/step - loss: 0.9328 - accuracy: 0.6075 - precision: 0.7120 - recall: 0.2905 - val_loss: 1.3957 - val_accuracy: 0.0000e+00 - val_precision: 0.0000e+00 - val_recall: 0.0000e+00\n",
            "Epoch 4/50\n",
            "15/15 [==============================] - 0s 7ms/step - loss: 0.8767 - accuracy: 0.6297 - precision: 0.7782 - recall: 0.4279 - val_loss: 1.4658 - val_accuracy: 0.0177 - val_precision: 0.0000e+00 - val_recall: 0.0000e+00\n",
            "Epoch 5/50\n",
            "15/15 [==============================] - 0s 7ms/step - loss: 0.8334 - accuracy: 0.6452 - precision: 0.7690 - recall: 0.4945 - val_loss: 1.5528 - val_accuracy: 0.0354 - val_precision: 0.0000e+00 - val_recall: 0.0000e+00\n",
            "Epoch 6/50\n",
            "15/15 [==============================] - 0s 7ms/step - loss: 0.8018 - accuracy: 0.6497 - precision: 0.7477 - recall: 0.5388 - val_loss: 1.5616 - val_accuracy: 0.0708 - val_precision: 0.0000e+00 - val_recall: 0.0000e+00\n"
          ]
        }
      ]
    },
    {
      "cell_type": "code",
      "source": [
        "# plot learning history\n",
        "\n",
        "plot_history(history);"
      ],
      "metadata": {
        "colab": {
          "base_uri": "https://localhost:8080/",
          "height": 1000
        },
        "id": "9P2Vq7T_-A-W",
        "outputId": "ed54a1b0-d44c-491e-a5af-b50a8354aa01"
      },
      "execution_count": null,
      "outputs": [
        {
          "output_type": "display_data",
          "data": {
            "text/plain": [
              "<Figure size 600x1200 with 4 Axes>"
            ],
            "image/png": "[encoded data removed]"
          },
          "metadata": {}
        }
      ]
    },
    {
      "cell_type": "code",
      "source": [
        "# get raw predictions\n",
        "raw_pred = multi_model.predict(X_test_processed)\n",
        "\n",
        "# display predictions and binarized true labels\n",
        "print('Raw Predictions\\n', raw_pred[:5])\n",
        "print('\\nbinarized y_test\\n', y_test_bin[:5])"
      ],
      "metadata": {
        "colab": {
          "base_uri": "https://localhost:8080/"
        },
        "id": "ttbMuIVj-VlU",
        "outputId": "c2e62d05-2e95-4056-df53-cea6b3e4259f"
      },
      "execution_count": null,
      "outputs": [
        {
          "output_type": "stream",
          "name": "stdout",
          "text": [
            "2/2 [==============================] - 0s 5ms/step\n",
            "Raw Predictions\n",
            " [[0.87173533 0.03050387 0.09776081]\n",
            " [0.14604081 0.79028404 0.06367512]\n",
            " [0.17359042 0.6756948  0.15071477]\n",
            " [0.26722118 0.5260672  0.2067116 ]\n",
            " [0.33888975 0.5080384  0.15307188]]\n",
            "\n",
            "binarized y_test\n",
            " [[1 0 0]\n",
            " [1 0 0]\n",
            " [0 1 0]\n",
            " [0 1 0]\n",
            " [0 0 1]]\n"
          ]
        }
      ]
    },
    {
      "cell_type": "code",
      "source": [
        "# convert predictions and labels into integers representing each fish class.\n",
        "y_pred = np.argmax(raw_pred, axis=1)\n",
        "y_true = np.argmax(y_test_bin, axis=1)\n",
        "\n",
        "print('integer predictions', y_pred)\n",
        "print('integer true labels', y_true)\n"
      ],
      "metadata": {
        "colab": {
          "base_uri": "https://localhost:8080/"
        },
        "id": "i6BkxCOR-efw",
        "outputId": "97fd3bac-e16d-4e8b-fc94-3392a36adbfa"
      },
      "execution_count": null,
      "outputs": [
        {
          "output_type": "stream",
          "name": "stdout",
          "text": [
            "integer predictions [0 1 1 1 1 1 0 0 0 1 1 1 0 1 1 0 0 1 1 0 0 1 0 0 1 0 0 1 1 0 0 1 1 0 1 0 0\n",
            " 0 1 0 0 1]\n",
            "integer true labels [0 0 1 1 2 1 0 0 0 1 1 1 0 1 1 0 0 1 2 1 1 1 0 0 1 0 0 1 0 0 0 0 1 0 1 0 0\n",
            " 1 1 0 1 1]\n"
          ]
        }
      ]
    },
    {
      "cell_type": "code",
      "source": [
        "# Getting Sklearn Metrics\n",
        "classification_metrics(y_true, y_pred, label='Test Data', figsize=(10,8))\n",
        "\n"
      ],
      "metadata": {
        "colab": {
          "base_uri": "https://localhost:8080/",
          "height": 912
        },
        "id": "NoZrej0c-gWf",
        "outputId": "3d0b7f68-8455-4f3e-fef6-3a8f69cbb9d2"
      },
      "execution_count": null,
      "outputs": [
        {
          "output_type": "stream",
          "name": "stdout",
          "text": [
            "----------------------------------------------------------------------\n",
            " Classification Metrics: Test Data\n",
            "----------------------------------------------------------------------\n",
            "              precision    recall  f1-score   support\n",
            "\n",
            "           0       0.81      0.85      0.83        20\n",
            "           1       0.76      0.80      0.78        20\n",
            "           2       0.00      0.00      0.00         2\n",
            "\n",
            "    accuracy                           0.79        42\n",
            "   macro avg       0.52      0.55      0.54        42\n",
            "weighted avg       0.75      0.79      0.77        42\n",
            "\n"
          ]
        },
        {
          "output_type": "stream",
          "name": "stderr",
          "text": [
            "/usr/local/lib/python3.10/dist-packages/sklearn/metrics/_classification.py:1344: UndefinedMetricWarning: Precision and F-score are ill-defined and being set to 0.0 in labels with no predicted samples. Use `zero_division` parameter to control this behavior.\n",
            "  _warn_prf(average, modifier, msg_start, len(result))\n",
            "/usr/local/lib/python3.10/dist-packages/sklearn/metrics/_classification.py:1344: UndefinedMetricWarning: Precision and F-score are ill-defined and being set to 0.0 in labels with no predicted samples. Use `zero_division` parameter to control this behavior.\n",
            "  _warn_prf(average, modifier, msg_start, len(result))\n",
            "/usr/local/lib/python3.10/dist-packages/sklearn/metrics/_classification.py:1344: UndefinedMetricWarning: Precision and F-score are ill-defined and being set to 0.0 in labels with no predicted samples. Use `zero_division` parameter to control this behavior.\n",
            "  _warn_prf(average, modifier, msg_start, len(result))\n"
          ]
        },
        {
          "output_type": "display_data",
          "data": {
            "text/plain": [
              "<Figure size 1000x800 with 2 Axes>"
            ],
            "image/png": "[encoded data removed]"
          },
          "metadata": {}
        }
      ]
    },
    {
      "cell_type": "markdown",
      "source": [
        "- Tune at least 3 parameters with the Keras tuner:\n",
        "- Include a dropout layer and adjust the dropout rate.\n",
        "- Number of Units\n",
        "- Optimizer\n",
        "- Learning rates"
      ],
      "metadata": {
        "id": "wiP6th5z0UHh"
      }
    },
    {
      "cell_type": "code",
      "source": [
        "!pip install keras-tuner\n"
      ],
      "metadata": {
        "colab": {
          "base_uri": "https://localhost:8080/"
        },
        "id": "KxdarX_D7S-g",
        "outputId": "e51a3855-5963-4a9b-9e3d-5e6d0aff3ab5"
      },
      "execution_count": null,
      "outputs": [
        {
          "output_type": "stream",
          "name": "stdout",
          "text": [
            "Requirement already satisfied: keras-tuner in /usr/local/lib/python3.10/dist-packages (1.4.6)\n",
            "Requirement already satisfied: keras in /usr/local/lib/python3.10/dist-packages (from keras-tuner) (2.15.0)\n",
            "Requirement already satisfied: packaging in /usr/local/lib/python3.10/dist-packages (from keras-tuner) (23.2)\n",
            "Requirement already satisfied: requests in /usr/local/lib/python3.10/dist-packages (from keras-tuner) (2.31.0)\n",
            "Requirement already satisfied: kt-legacy in /usr/local/lib/python3.10/dist-packages (from keras-tuner) (1.0.5)\n",
            "Requirement already satisfied: charset-normalizer<4,>=2 in /usr/local/lib/python3.10/dist-packages (from requests->keras-tuner) (3.3.2)\n",
            "Requirement already satisfied: idna<4,>=2.5 in /usr/local/lib/python3.10/dist-packages (from requests->keras-tuner) (3.6)\n",
            "Requirement already satisfied: urllib3<3,>=1.21.1 in /usr/local/lib/python3.10/dist-packages (from requests->keras-tuner) (2.0.7)\n",
            "Requirement already satisfied: certifi>=2017.4.17 in /usr/local/lib/python3.10/dist-packages (from requests->keras-tuner) (2023.11.17)\n"
          ]
        }
      ]
    },
    {
      "cell_type": "code",
      "source": [
        "from keras_tuner import HyperParameters as hp\n",
        "import keras_tuner as kt\n",
        "\n"
      ],
      "metadata": {
        "id": "AHUrBf0E8ng1"
      },
      "execution_count": null,
      "outputs": []
    },
    {
      "cell_type": "code",
      "source": [
        "# Make a folder to store results of hyperparameter tuning\n",
        "import os\n",
        "folder = 'KerasTuner/'\n",
        "os.makedirs(folder, exist_ok=True)\n",
        "\n"
      ],
      "metadata": {
        "id": "iDv9WS5A9F9N"
      },
      "execution_count": null,
      "outputs": []
    },
    {
      "cell_type": "code",
      "source": [
        "def build_model(hp,):\n",
        "    # Instantiate Model\n",
        "    model = Sequential()\n",
        "\n",
        "    # First hidden layer\n",
        "    model.add(Dense(units=hp.Int('units1', min_value=10, max_value=50, step=5),\n",
        "                    input_dim=input_shape,\n",
        "                    activation='relu'))\n",
        "    # Dropout layer\n",
        "    model.add(Dropout(hp.Float(name=\"dropout_value\", min_value=0.0, max_value=0.5, step=0.1)))\n",
        "\n",
        "    # Output layer\n",
        "    model.add(Dense(num_classes, activation='softmax'))\n",
        "\n",
        "    hp_learning_rate = hp.Choice('learning_rate', values=[1e-1, 1e-2])\n",
        "\n",
        "    # Compile Model\n",
        "    model.compile(loss='categorical_crossentropy',\n",
        "                  optimizer=keras.optimizers.Adam(learning_rate=hp_learning_rate),\n",
        "                  metrics=['accuracy', metrics.Precision(), metrics.Recall(), metrics.AUC(name='auc')])\n",
        "\n",
        "    return model\n"
      ],
      "metadata": {
        "id": "9x-dLk3T7kll"
      },
      "execution_count": null,
      "outputs": []
    },
    {
      "cell_type": "code",
      "source": [
        "# Define tuner object\n",
        "tuner = kt.Hyperband(build_model,\n",
        "                     objective='val_accuracy',\n",
        "                     max_epochs=100,\n",
        "                     directory=folder,\n",
        "                     overwrite = True,\n",
        "                     seed = 321,\n",
        "                     project_name='Rookie_tuning')\n",
        "\n"
      ],
      "metadata": {
        "id": "O2sR-z-g85jz"
      },
      "execution_count": null,
      "outputs": []
    },
    {
      "cell_type": "code",
      "source": [
        "# Run the tuner\n",
        "epochs =20\n",
        "tuner.search(X_train_sm, y_train_bin,  epochs=epochs,\n",
        "             validation_split = .2, callbacks = [early_stopping])\n",
        "\n"
      ],
      "metadata": {
        "colab": {
          "base_uri": "https://localhost:8080/"
        },
        "id": "iI_yi6Of8_Kv",
        "outputId": "a5d4cf38-b09e-49b8-92be-6944d5e5808b"
      },
      "execution_count": null,
      "outputs": [
        {
          "output_type": "stream",
          "name": "stdout",
          "text": [
            "Trial 82 Complete [00h 00m 04s]\n",
            "val_accuracy: 0.5575221180915833\n",
            "\n",
            "Best val_accuracy So Far: 0.9469026327133179\n",
            "Total elapsed time: 00h 04m 20s\n"
          ]
        }
      ]
    },
    {
      "cell_type": "code",
      "source": [
        "# Obtain best hyperparameter values\n",
        "best_hps=tuner.get_best_hyperparameters()[0]\n",
        "best_hps.values\n",
        "\n"
      ],
      "metadata": {
        "colab": {
          "base_uri": "https://localhost:8080/"
        },
        "id": "dTu3sL2K-ohh",
        "outputId": "4d077290-1e21-44ec-be0e-ee432d4e7286"
      },
      "execution_count": null,
      "outputs": [
        {
          "output_type": "execute_result",
          "data": {
            "text/plain": [
              "{'units1': 35,\n",
              " 'dropout_value': 0.1,\n",
              " 'learning_rate': 0.1,\n",
              " 'tuner/epochs': 2,\n",
              " 'tuner/initial_epoch': 0,\n",
              " 'tuner/bracket': 4,\n",
              " 'tuner/round': 0}"
            ]
          },
          "metadata": {},
          "execution_count": 38
        }
      ]
    },
    {
      "cell_type": "code",
      "source": [
        "# Obtain best model\n",
        "best_model = tuner.get_best_models()[0]\n",
        "best_model.summary()\n",
        "\n"
      ],
      "metadata": {
        "colab": {
          "base_uri": "https://localhost:8080/"
        },
        "id": "jkZ-uJR7-Tod",
        "outputId": "da9c40c4-314f-4814-f903-175a5258b85e"
      },
      "execution_count": null,
      "outputs": [
        {
          "output_type": "stream",
          "name": "stdout",
          "text": [
            "Model: \"sequential\"\n",
            "_________________________________________________________________\n",
            " Layer (type)                Output Shape              Param #   \n",
            "=================================================================\n",
            " dense (Dense)               (None, 35)                1050      \n",
            "                                                                 \n",
            " dropout (Dropout)           (None, 35)                0         \n",
            "                                                                 \n",
            " dense_1 (Dense)             (None, 3)                 108       \n",
            "                                                                 \n",
            "=================================================================\n",
            "Total params: 1158 (4.52 KB)\n",
            "Trainable params: 1158 (4.52 KB)\n",
            "Non-trainable params: 0 (0.00 Byte)\n",
            "_________________________________________________________________\n"
          ]
        }
      ]
    },
    {
      "cell_type": "code",
      "source": [
        "# Fit the model with the early stopping callback\n",
        "history =best_model.fit(X_train_sm, y_train_bin,\n",
        "                    validation_split = .2,\n",
        "                    epochs=50,\n",
        "                    callbacks = [early_stopping])"
      ],
      "metadata": {
        "colab": {
          "base_uri": "https://localhost:8080/"
        },
        "id": "Q13On52I_get",
        "outputId": "47984698-825d-4244-e48b-c032827f6445"
      },
      "execution_count": null,
      "outputs": [
        {
          "output_type": "stream",
          "name": "stdout",
          "text": [
            "Epoch 1/50\n",
            "15/15 [==============================] - 2s 47ms/step - loss: 0.8287 - accuracy: 0.6741 - precision: 0.6948 - recall: 0.6208 - auc: 0.8398 - val_loss: 0.8658 - val_accuracy: 0.6460 - val_precision: 0.7692 - val_recall: 0.2655 - val_auc: 0.8494\n",
            "Epoch 2/50\n",
            "15/15 [==============================] - 0s 12ms/step - loss: 0.6374 - accuracy: 0.7472 - precision: 0.7872 - recall: 0.6563 - auc: 0.8933 - val_loss: 0.5407 - val_accuracy: 0.9204 - val_precision: 0.9412 - val_recall: 0.7080 - val_auc: 0.9745\n",
            "Epoch 3/50\n",
            "15/15 [==============================] - 0s 12ms/step - loss: 0.6054 - accuracy: 0.7273 - precision: 0.7835 - recall: 0.6741 - auc: 0.9007 - val_loss: 0.6071 - val_accuracy: 0.8142 - val_precision: 0.8537 - val_recall: 0.6195 - val_auc: 0.9379\n",
            "Epoch 4/50\n",
            "15/15 [==============================] - 0s 10ms/step - loss: 0.7396 - accuracy: 0.6940 - precision: 0.7171 - recall: 0.6519 - auc: 0.8710 - val_loss: 0.4930 - val_accuracy: 0.9381 - val_precision: 0.9425 - val_recall: 0.7257 - val_auc: 0.9759\n",
            "Epoch 5/50\n",
            "15/15 [==============================] - 0s 14ms/step - loss: 0.6093 - accuracy: 0.7406 - precision: 0.7797 - recall: 0.6829 - auc: 0.9023 - val_loss: 0.5825 - val_accuracy: 0.7522 - val_precision: 0.8590 - val_recall: 0.5929 - val_auc: 0.9331\n",
            "Epoch 6/50\n",
            "15/15 [==============================] - 0s 12ms/step - loss: 0.5700 - accuracy: 0.7361 - precision: 0.7880 - recall: 0.6674 - auc: 0.9097 - val_loss: 0.7070 - val_accuracy: 0.6903 - val_precision: 0.8254 - val_recall: 0.4602 - val_auc: 0.8929\n",
            "Epoch 7/50\n",
            "15/15 [==============================] - 0s 13ms/step - loss: 0.6634 - accuracy: 0.7273 - precision: 0.7757 - recall: 0.6519 - auc: 0.8861 - val_loss: 0.7252 - val_accuracy: 0.5487 - val_precision: 0.6625 - val_recall: 0.4690 - val_auc: 0.8383\n",
            "Epoch 8/50\n",
            "15/15 [==============================] - 0s 13ms/step - loss: 0.6052 - accuracy: 0.7627 - precision: 0.7891 - recall: 0.7384 - auc: 0.9082 - val_loss: 0.6373 - val_accuracy: 0.6991 - val_precision: 0.9143 - val_recall: 0.5664 - val_auc: 0.8950\n",
            "Epoch 9/50\n",
            "15/15 [==============================] - 0s 11ms/step - loss: 0.5709 - accuracy: 0.7184 - precision: 0.7841 - recall: 0.6763 - auc: 0.9070 - val_loss: 0.7589 - val_accuracy: 0.5929 - val_precision: 0.8148 - val_recall: 0.3894 - val_auc: 0.8272\n"
          ]
        }
      ]
    },
    {
      "cell_type": "code",
      "source": [
        "plot_history(history)"
      ],
      "metadata": {
        "colab": {
          "base_uri": "https://localhost:8080/",
          "height": 1000
        },
        "id": "nr0nDEUL_W-g",
        "outputId": "a06ed17f-0df3-40d4-9e11-7838aa5cb18d"
      },
      "execution_count": null,
      "outputs": [
        {
          "output_type": "execute_result",
          "data": {
            "text/plain": [
              "(<Figure size 600x1200 with 5 Axes>,\n",
              " array([<Axes: title={'center': 'loss'}>,\n",
              "        <Axes: title={'center': 'accuracy'}>,\n",
              "        <Axes: title={'center': 'precision'}>,\n",
              "        <Axes: title={'center': 'recall'}>,\n",
              "        <Axes: title={'center': 'auc'}>], dtype=object))"
            ]
          },
          "metadata": {},
          "execution_count": 41
        },
        {
          "output_type": "display_data",
          "data": {
            "text/plain": [
              "<Figure size 600x1200 with 5 Axes>"
            ],
            "image/png": "[encoded data removed]"
          },
          "metadata": {}
        }
      ]
    },
    {
      "cell_type": "code",
      "source": [
        "# get raw predictions\n",
        "raw_pred = best_model.predict(X_test_processed)\n",
        "\n",
        "# display predictions and binarized true labels\n",
        "print('Raw Predictions\\n', raw_pred[:5])\n",
        "print('\\nbinarized y_test\\n', y_test_bin[:5])\n",
        "\n",
        "# convert predictions and labels into integers representing each fish class.\n",
        "y_pred = np.argmax(raw_pred, axis=1)\n",
        "y_true = np.argmax(y_test_bin, axis=1)\n",
        "\n",
        "print('integer predictions', y_pred)\n",
        "print('integer true labels', y_true)\n",
        "\n",
        "\n",
        "# Getting Sklearn Metrics\n",
        "classification_metrics(y_true, y_pred, label='Test Data', figsize=(10,8))\n",
        "\n"
      ],
      "metadata": {
        "colab": {
          "base_uri": "https://localhost:8080/",
          "height": 1000
        },
        "id": "F-yg_oIp_xna",
        "outputId": "c28da8e9-626b-448f-c8f1-be75d66feb2e"
      },
      "execution_count": null,
      "outputs": [
        {
          "output_type": "stream",
          "name": "stdout",
          "text": [
            "2/2 [==============================] - 0s 5ms/step\n",
            "Raw Predictions\n",
            " [[1.0000000e+00 4.7528458e-13 4.1738220e-24]\n",
            " [9.9477673e-01 5.2233110e-03 2.9533654e-19]\n",
            " [6.6363192e-03 5.1609898e-01 4.7726467e-01]\n",
            " [6.4614192e-02 5.2898192e-01 4.0640390e-01]\n",
            " [1.4309350e-03 8.3629680e-01 1.6227230e-01]]\n",
            "\n",
            "binarized y_test\n",
            " [[1 0 0]\n",
            " [1 0 0]\n",
            " [0 1 0]\n",
            " [0 1 0]\n",
            " [0 0 1]]\n",
            "integer predictions [0 0 1 1 1 1 0 0 1 1 1 1 0 1 0 2 0 1 2 1 1 1 0 0 0 0 1 1 1 0 0 0 2 0 1 0 0\n",
            " 0 2 0 0 2]\n",
            "integer true labels [0 0 1 1 2 1 0 0 0 1 1 1 0 1 1 0 0 1 2 1 1 1 0 0 1 0 0 1 0 0 0 0 1 0 1 0 0\n",
            " 1 1 0 1 1]\n",
            "----------------------------------------------------------------------\n",
            " Classification Metrics: Test Data\n",
            "----------------------------------------------------------------------\n",
            "              precision    recall  f1-score   support\n",
            "\n",
            "           0       0.80      0.80      0.80        20\n",
            "           1       0.76      0.65      0.70        20\n",
            "           2       0.20      0.50      0.29         2\n",
            "\n",
            "    accuracy                           0.71        42\n",
            "   macro avg       0.59      0.65      0.60        42\n",
            "weighted avg       0.75      0.71      0.73        42\n",
            "\n"
          ]
        },
        {
          "output_type": "display_data",
          "data": {
            "text/plain": [
              "<Figure size 1000x800 with 2 Axes>"
            ],
            "image/png": "[encoded data removed]"
          },
          "metadata": {}
        }
      ]
    },
    {
      "cell_type": "code",
      "source": [
        "# Evaluate neural network with tuned optimizer, units, and dropout\n",
        "result = best_model.evaluate(X_test_processed, y_test_bin, return_dict=True)\n",
        "result\n",
        "\n"
      ],
      "metadata": {
        "colab": {
          "base_uri": "https://localhost:8080/"
        },
        "id": "MOMzgA3i-tMs",
        "outputId": "0ba3901b-a001-4e92-a7bd-b31e7901e48b"
      },
      "execution_count": null,
      "outputs": [
        {
          "output_type": "stream",
          "name": "stdout",
          "text": [
            "2/2 [==============================] - 0s 18ms/step - loss: 1.1859 - accuracy: 0.7143 - precision: 0.7250 - recall: 0.6905 - auc: 0.8716\n"
          ]
        },
        {
          "output_type": "execute_result",
          "data": {
            "text/plain": [
              "{'loss': 1.1859147548675537,\n",
              " 'accuracy': 0.7142857313156128,\n",
              " 'precision': 0.7250000238418579,\n",
              " 'recall': 0.6904761791229248,\n",
              " 'auc': 0.8715986609458923}"
            ]
          },
          "metadata": {},
          "execution_count": 43
        }
      ]
    }
  ]
}